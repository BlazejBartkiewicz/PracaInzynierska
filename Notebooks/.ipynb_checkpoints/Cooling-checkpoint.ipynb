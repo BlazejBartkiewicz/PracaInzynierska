{
 "cells": [
  {
   "cell_type": "code",
   "execution_count": 1,
   "metadata": {
    "id": "DHWv7nErXJqa",
    "pycharm": {
     "is_executing": true,
     "name": "#%%\n"
    }
   },
   "outputs": [],
   "source": [
    "from sklearn.model_selection import train_test_split\n",
    "import matplotlib.pyplot as plt\n",
    "import numpy as np\n",
    "import pandas as pd\n"
   ]
  },
  {
   "cell_type": "code",
   "execution_count": 4,
   "metadata": {
    "colab": {
     "base_uri": "https://localhost:8080/",
     "height": 698
    },
    "executionInfo": {
     "elapsed": 21124,
     "status": "ok",
     "timestamp": 1724236977393,
     "user": {
      "displayName": "Błażej B",
      "userId": "09393835138747022407"
     },
     "user_tz": -120
    },
    "id": "RcSXJr6rXgJi",
    "outputId": "5e978355-daed-407f-cd49-5319ef1c5d6e",
    "pycharm": {
     "name": "#%%\n"
    }
   },
   "outputs": [
    {
     "data": {
      "text/plain": [
       "Month                               object\n",
       "Day                                  int64\n",
       "Week day                            object\n",
       "Hour                                 int64\n",
       "Dry-Bulb Temp (Â°C)                float64\n",
       "Heating Load (kW)                  float64\n",
       "Chiller Output (kW)                float64\n",
       "Chiller Input (kW)                 float64\n",
       "Total Building Electric [kW]       float64\n",
       "Precool Coil Load (kW)             float64\n",
       "Preheat Coil Load (kW)             float64\n",
       "Terminal Cooling Coil Load (kW)    float64\n",
       "Terminal Heating Coil Load (kW)    float64\n",
       "Ventilation Fan (kW)               float64\n",
       "Exhaust Fan (kW)                   float64\n",
       "Terminal Fan (kW)                  float64\n",
       "Vent. Reclaim Device (kW)          float64\n",
       "Lighting (kW)                      float64\n",
       "Electric Equipment (kW)            float64\n",
       "dtype: object"
      ]
     },
     "execution_count": 4,
     "metadata": {},
     "output_type": "execute_result"
    }
   ],
   "source": [
    "#Pulling data\n",
    "data_frame = pd.read_csv('../Data/Raw_data.csv', encoding='unicode_escape', sep=\",\")\n",
    "data_frame.dtypes"
   ]
  },
  {
   "cell_type": "code",
   "execution_count": 5,
   "metadata": {
    "colab": {
     "base_uri": "https://localhost:8080/",
     "height": 423
    },
    "executionInfo": {
     "elapsed": 11,
     "status": "ok",
     "timestamp": 1724236977394,
     "user": {
      "displayName": "Błażej B",
      "userId": "09393835138747022407"
     },
     "user_tz": -120
    },
    "id": "oIWoq17AX6TW",
    "outputId": "5f7f3e43-2d30-46df-86c1-143a945a1297",
    "pycharm": {
     "name": "#%%\n"
    }
   },
   "outputs": [
    {
     "data": {
      "text/html": [
       "<div>\n",
       "<style scoped>\n",
       "    .dataframe tbody tr th:only-of-type {\n",
       "        vertical-align: middle;\n",
       "    }\n",
       "\n",
       "    .dataframe tbody tr th {\n",
       "        vertical-align: top;\n",
       "    }\n",
       "\n",
       "    .dataframe thead th {\n",
       "        text-align: right;\n",
       "    }\n",
       "</style>\n",
       "<table border=\"1\" class=\"dataframe\">\n",
       "  <thead>\n",
       "    <tr style=\"text-align: right;\">\n",
       "      <th></th>\n",
       "      <th>Hour</th>\n",
       "      <th>Dry-Bulb Temp (Â°C)</th>\n",
       "    </tr>\n",
       "  </thead>\n",
       "  <tbody>\n",
       "    <tr>\n",
       "      <th>0</th>\n",
       "      <td>0</td>\n",
       "      <td>-4.3</td>\n",
       "    </tr>\n",
       "    <tr>\n",
       "      <th>1</th>\n",
       "      <td>1</td>\n",
       "      <td>-4.1</td>\n",
       "    </tr>\n",
       "    <tr>\n",
       "      <th>2</th>\n",
       "      <td>2</td>\n",
       "      <td>-4.0</td>\n",
       "    </tr>\n",
       "    <tr>\n",
       "      <th>3</th>\n",
       "      <td>3</td>\n",
       "      <td>-3.8</td>\n",
       "    </tr>\n",
       "    <tr>\n",
       "      <th>4</th>\n",
       "      <td>4</td>\n",
       "      <td>-3.5</td>\n",
       "    </tr>\n",
       "    <tr>\n",
       "      <th>...</th>\n",
       "      <td>...</td>\n",
       "      <td>...</td>\n",
       "    </tr>\n",
       "    <tr>\n",
       "      <th>8755</th>\n",
       "      <td>19</td>\n",
       "      <td>0.2</td>\n",
       "    </tr>\n",
       "    <tr>\n",
       "      <th>8756</th>\n",
       "      <td>20</td>\n",
       "      <td>0.3</td>\n",
       "    </tr>\n",
       "    <tr>\n",
       "      <th>8757</th>\n",
       "      <td>21</td>\n",
       "      <td>0.3</td>\n",
       "    </tr>\n",
       "    <tr>\n",
       "      <th>8758</th>\n",
       "      <td>22</td>\n",
       "      <td>0.3</td>\n",
       "    </tr>\n",
       "    <tr>\n",
       "      <th>8759</th>\n",
       "      <td>23</td>\n",
       "      <td>0.2</td>\n",
       "    </tr>\n",
       "  </tbody>\n",
       "</table>\n",
       "<p>8760 rows × 2 columns</p>\n",
       "</div>"
      ],
      "text/plain": [
       "      Hour  Dry-Bulb Temp (Â°C)\n",
       "0        0                 -4.3\n",
       "1        1                 -4.1\n",
       "2        2                 -4.0\n",
       "3        3                 -3.8\n",
       "4        4                 -3.5\n",
       "...    ...                  ...\n",
       "8755    19                  0.2\n",
       "8756    20                  0.3\n",
       "8757    21                  0.3\n",
       "8758    22                  0.3\n",
       "8759    23                  0.2\n",
       "\n",
       "[8760 rows x 2 columns]"
      ]
     },
     "execution_count": 5,
     "metadata": {},
     "output_type": "execute_result"
    }
   ],
   "source": [
    "cooling_df = data_frame.drop(['Month',\n",
    "                              'Week day',\n",
    "                              'Day',\n",
    "                              'Chiller Output (kW)',\n",
    "                     'Chiller Input (kW)',\n",
    "                     'Heating Load (kW)',\n",
    "                     'Total Building Electric [kW]',\n",
    "                     'Precool Coil Load (kW)',\n",
    "                     'Preheat Coil Load (kW)',\n",
    "                     'Terminal Cooling Coil Load (kW)',\n",
    "                     'Terminal Heating Coil Load (kW)',\n",
    "                     'Ventilation Fan (kW)',\n",
    "                     'Exhaust Fan (kW)',\n",
    "                     'Terminal Fan (kW)',\n",
    "                     'Vent. Reclaim Device (kW)',\n",
    "                     'Lighting (kW)',\n",
    "                              'Electric Equipment (kW)'\n",
    "\n",
    "], axis=1)\n",
    "cooling_df"
   ]
  },
  {
   "cell_type": "code",
   "execution_count": 6,
   "metadata": {
    "colab": {
     "base_uri": "https://localhost:8080/"
    },
    "executionInfo": {
     "elapsed": 10,
     "status": "ok",
     "timestamp": 1724236977394,
     "user": {
      "displayName": "Błażej B",
      "userId": "09393835138747022407"
     },
     "user_tz": -120
    },
    "id": "vvHY8tDYaXpe",
    "outputId": "d02936c5-2ff3-4644-b91a-9dafbaa19c3f",
    "pycharm": {
     "name": "#%%\n"
    }
   },
   "outputs": [
    {
     "data": {
      "text/plain": [
       "array(['Jan', 'Jan', 'Jan', ..., 'Dec', 'Dec', 'Dec'], dtype=object)"
      ]
     },
     "execution_count": 6,
     "metadata": {},
     "output_type": "execute_result"
    }
   ],
   "source": [
    "month_df= data_frame['Month'].values\n",
    "month_df"
   ]
  },
  {
   "cell_type": "code",
   "execution_count": 7,
   "metadata": {
    "colab": {
     "base_uri": "https://localhost:8080/",
     "height": 423
    },
    "executionInfo": {
     "elapsed": 8,
     "status": "ok",
     "timestamp": 1724236977394,
     "user": {
      "displayName": "Błażej B",
      "userId": "09393835138747022407"
     },
     "user_tz": -120
    },
    "id": "8zbR15qZa20I",
    "outputId": "ebed1af3-1fb6-4544-be57-5cac66346eb3",
    "pycharm": {
     "name": "#%%\n"
    }
   },
   "outputs": [
    {
     "data": {
      "text/html": [
       "<div>\n",
       "<style scoped>\n",
       "    .dataframe tbody tr th:only-of-type {\n",
       "        vertical-align: middle;\n",
       "    }\n",
       "\n",
       "    .dataframe tbody tr th {\n",
       "        vertical-align: top;\n",
       "    }\n",
       "\n",
       "    .dataframe thead th {\n",
       "        text-align: right;\n",
       "    }\n",
       "</style>\n",
       "<table border=\"1\" class=\"dataframe\">\n",
       "  <thead>\n",
       "    <tr style=\"text-align: right;\">\n",
       "      <th></th>\n",
       "      <th>Apr</th>\n",
       "      <th>Aug</th>\n",
       "      <th>Dec</th>\n",
       "      <th>Feb</th>\n",
       "      <th>Jan</th>\n",
       "      <th>Jul</th>\n",
       "      <th>Jun</th>\n",
       "      <th>Mar</th>\n",
       "      <th>May</th>\n",
       "      <th>Nov</th>\n",
       "      <th>Oct</th>\n",
       "      <th>Sep</th>\n",
       "    </tr>\n",
       "  </thead>\n",
       "  <tbody>\n",
       "    <tr>\n",
       "      <th>0</th>\n",
       "      <td>0</td>\n",
       "      <td>0</td>\n",
       "      <td>0</td>\n",
       "      <td>0</td>\n",
       "      <td>1</td>\n",
       "      <td>0</td>\n",
       "      <td>0</td>\n",
       "      <td>0</td>\n",
       "      <td>0</td>\n",
       "      <td>0</td>\n",
       "      <td>0</td>\n",
       "      <td>0</td>\n",
       "    </tr>\n",
       "    <tr>\n",
       "      <th>1</th>\n",
       "      <td>0</td>\n",
       "      <td>0</td>\n",
       "      <td>0</td>\n",
       "      <td>0</td>\n",
       "      <td>1</td>\n",
       "      <td>0</td>\n",
       "      <td>0</td>\n",
       "      <td>0</td>\n",
       "      <td>0</td>\n",
       "      <td>0</td>\n",
       "      <td>0</td>\n",
       "      <td>0</td>\n",
       "    </tr>\n",
       "    <tr>\n",
       "      <th>2</th>\n",
       "      <td>0</td>\n",
       "      <td>0</td>\n",
       "      <td>0</td>\n",
       "      <td>0</td>\n",
       "      <td>1</td>\n",
       "      <td>0</td>\n",
       "      <td>0</td>\n",
       "      <td>0</td>\n",
       "      <td>0</td>\n",
       "      <td>0</td>\n",
       "      <td>0</td>\n",
       "      <td>0</td>\n",
       "    </tr>\n",
       "    <tr>\n",
       "      <th>3</th>\n",
       "      <td>0</td>\n",
       "      <td>0</td>\n",
       "      <td>0</td>\n",
       "      <td>0</td>\n",
       "      <td>1</td>\n",
       "      <td>0</td>\n",
       "      <td>0</td>\n",
       "      <td>0</td>\n",
       "      <td>0</td>\n",
       "      <td>0</td>\n",
       "      <td>0</td>\n",
       "      <td>0</td>\n",
       "    </tr>\n",
       "    <tr>\n",
       "      <th>4</th>\n",
       "      <td>0</td>\n",
       "      <td>0</td>\n",
       "      <td>0</td>\n",
       "      <td>0</td>\n",
       "      <td>1</td>\n",
       "      <td>0</td>\n",
       "      <td>0</td>\n",
       "      <td>0</td>\n",
       "      <td>0</td>\n",
       "      <td>0</td>\n",
       "      <td>0</td>\n",
       "      <td>0</td>\n",
       "    </tr>\n",
       "    <tr>\n",
       "      <th>...</th>\n",
       "      <td>...</td>\n",
       "      <td>...</td>\n",
       "      <td>...</td>\n",
       "      <td>...</td>\n",
       "      <td>...</td>\n",
       "      <td>...</td>\n",
       "      <td>...</td>\n",
       "      <td>...</td>\n",
       "      <td>...</td>\n",
       "      <td>...</td>\n",
       "      <td>...</td>\n",
       "      <td>...</td>\n",
       "    </tr>\n",
       "    <tr>\n",
       "      <th>8755</th>\n",
       "      <td>0</td>\n",
       "      <td>0</td>\n",
       "      <td>1</td>\n",
       "      <td>0</td>\n",
       "      <td>0</td>\n",
       "      <td>0</td>\n",
       "      <td>0</td>\n",
       "      <td>0</td>\n",
       "      <td>0</td>\n",
       "      <td>0</td>\n",
       "      <td>0</td>\n",
       "      <td>0</td>\n",
       "    </tr>\n",
       "    <tr>\n",
       "      <th>8756</th>\n",
       "      <td>0</td>\n",
       "      <td>0</td>\n",
       "      <td>1</td>\n",
       "      <td>0</td>\n",
       "      <td>0</td>\n",
       "      <td>0</td>\n",
       "      <td>0</td>\n",
       "      <td>0</td>\n",
       "      <td>0</td>\n",
       "      <td>0</td>\n",
       "      <td>0</td>\n",
       "      <td>0</td>\n",
       "    </tr>\n",
       "    <tr>\n",
       "      <th>8757</th>\n",
       "      <td>0</td>\n",
       "      <td>0</td>\n",
       "      <td>1</td>\n",
       "      <td>0</td>\n",
       "      <td>0</td>\n",
       "      <td>0</td>\n",
       "      <td>0</td>\n",
       "      <td>0</td>\n",
       "      <td>0</td>\n",
       "      <td>0</td>\n",
       "      <td>0</td>\n",
       "      <td>0</td>\n",
       "    </tr>\n",
       "    <tr>\n",
       "      <th>8758</th>\n",
       "      <td>0</td>\n",
       "      <td>0</td>\n",
       "      <td>1</td>\n",
       "      <td>0</td>\n",
       "      <td>0</td>\n",
       "      <td>0</td>\n",
       "      <td>0</td>\n",
       "      <td>0</td>\n",
       "      <td>0</td>\n",
       "      <td>0</td>\n",
       "      <td>0</td>\n",
       "      <td>0</td>\n",
       "    </tr>\n",
       "    <tr>\n",
       "      <th>8759</th>\n",
       "      <td>0</td>\n",
       "      <td>0</td>\n",
       "      <td>1</td>\n",
       "      <td>0</td>\n",
       "      <td>0</td>\n",
       "      <td>0</td>\n",
       "      <td>0</td>\n",
       "      <td>0</td>\n",
       "      <td>0</td>\n",
       "      <td>0</td>\n",
       "      <td>0</td>\n",
       "      <td>0</td>\n",
       "    </tr>\n",
       "  </tbody>\n",
       "</table>\n",
       "<p>8760 rows × 12 columns</p>\n",
       "</div>"
      ],
      "text/plain": [
       "      Apr  Aug  Dec  Feb  Jan  Jul  Jun  Mar  May  Nov  Oct  Sep\n",
       "0       0    0    0    0    1    0    0    0    0    0    0    0\n",
       "1       0    0    0    0    1    0    0    0    0    0    0    0\n",
       "2       0    0    0    0    1    0    0    0    0    0    0    0\n",
       "3       0    0    0    0    1    0    0    0    0    0    0    0\n",
       "4       0    0    0    0    1    0    0    0    0    0    0    0\n",
       "...   ...  ...  ...  ...  ...  ...  ...  ...  ...  ...  ...  ...\n",
       "8755    0    0    1    0    0    0    0    0    0    0    0    0\n",
       "8756    0    0    1    0    0    0    0    0    0    0    0    0\n",
       "8757    0    0    1    0    0    0    0    0    0    0    0    0\n",
       "8758    0    0    1    0    0    0    0    0    0    0    0    0\n",
       "8759    0    0    1    0    0    0    0    0    0    0    0    0\n",
       "\n",
       "[8760 rows x 12 columns]"
      ]
     },
     "execution_count": 7,
     "metadata": {},
     "output_type": "execute_result"
    }
   ],
   "source": [
    "month_encoded = pd.get_dummies(month_df, columns = ['Month'])\n",
    "month_encoded"
   ]
  },
  {
   "cell_type": "code",
   "execution_count": 8,
   "metadata": {
    "colab": {
     "base_uri": "https://localhost:8080/"
    },
    "executionInfo": {
     "elapsed": 839,
     "status": "ok",
     "timestamp": 1724236978226,
     "user": {
      "displayName": "Błażej B",
      "userId": "09393835138747022407"
     },
     "user_tz": -120
    },
    "id": "QJU2Qeg5aieu",
    "outputId": "7d3db28a-b597-4123-fc84-96cb2e9d20ff",
    "pycharm": {
     "name": "#%%\n"
    }
   },
   "outputs": [
    {
     "data": {
      "text/plain": [
       "array(['Sunday', 'Sunday', 'Sunday', ..., 'Sunday', 'Sunday', 'Sunday'],\n",
       "      dtype=object)"
      ]
     },
     "execution_count": 8,
     "metadata": {},
     "output_type": "execute_result"
    }
   ],
   "source": [
    "weekday_df = data_frame['Week day'].values\n",
    "weekday_df"
   ]
  },
  {
   "cell_type": "code",
   "execution_count": 9,
   "metadata": {
    "colab": {
     "base_uri": "https://localhost:8080/",
     "height": 423
    },
    "executionInfo": {
     "elapsed": 7,
     "status": "ok",
     "timestamp": 1724236978226,
     "user": {
      "displayName": "Błażej B",
      "userId": "09393835138747022407"
     },
     "user_tz": -120
    },
    "id": "iV3s08RBbDnI",
    "outputId": "0264af27-f940-49b1-c08e-73e495824cbf",
    "pycharm": {
     "name": "#%%\n"
    }
   },
   "outputs": [
    {
     "data": {
      "text/html": [
       "<div>\n",
       "<style scoped>\n",
       "    .dataframe tbody tr th:only-of-type {\n",
       "        vertical-align: middle;\n",
       "    }\n",
       "\n",
       "    .dataframe tbody tr th {\n",
       "        vertical-align: top;\n",
       "    }\n",
       "\n",
       "    .dataframe thead th {\n",
       "        text-align: right;\n",
       "    }\n",
       "</style>\n",
       "<table border=\"1\" class=\"dataframe\">\n",
       "  <thead>\n",
       "    <tr style=\"text-align: right;\">\n",
       "      <th></th>\n",
       "      <th>Friday</th>\n",
       "      <th>Monday</th>\n",
       "      <th>Saturday</th>\n",
       "      <th>Sunday</th>\n",
       "      <th>Thursday</th>\n",
       "      <th>Tuesday</th>\n",
       "      <th>Wednesday</th>\n",
       "    </tr>\n",
       "  </thead>\n",
       "  <tbody>\n",
       "    <tr>\n",
       "      <th>0</th>\n",
       "      <td>0</td>\n",
       "      <td>0</td>\n",
       "      <td>0</td>\n",
       "      <td>1</td>\n",
       "      <td>0</td>\n",
       "      <td>0</td>\n",
       "      <td>0</td>\n",
       "    </tr>\n",
       "    <tr>\n",
       "      <th>1</th>\n",
       "      <td>0</td>\n",
       "      <td>0</td>\n",
       "      <td>0</td>\n",
       "      <td>1</td>\n",
       "      <td>0</td>\n",
       "      <td>0</td>\n",
       "      <td>0</td>\n",
       "    </tr>\n",
       "    <tr>\n",
       "      <th>2</th>\n",
       "      <td>0</td>\n",
       "      <td>0</td>\n",
       "      <td>0</td>\n",
       "      <td>1</td>\n",
       "      <td>0</td>\n",
       "      <td>0</td>\n",
       "      <td>0</td>\n",
       "    </tr>\n",
       "    <tr>\n",
       "      <th>3</th>\n",
       "      <td>0</td>\n",
       "      <td>0</td>\n",
       "      <td>0</td>\n",
       "      <td>1</td>\n",
       "      <td>0</td>\n",
       "      <td>0</td>\n",
       "      <td>0</td>\n",
       "    </tr>\n",
       "    <tr>\n",
       "      <th>4</th>\n",
       "      <td>0</td>\n",
       "      <td>0</td>\n",
       "      <td>0</td>\n",
       "      <td>1</td>\n",
       "      <td>0</td>\n",
       "      <td>0</td>\n",
       "      <td>0</td>\n",
       "    </tr>\n",
       "    <tr>\n",
       "      <th>...</th>\n",
       "      <td>...</td>\n",
       "      <td>...</td>\n",
       "      <td>...</td>\n",
       "      <td>...</td>\n",
       "      <td>...</td>\n",
       "      <td>...</td>\n",
       "      <td>...</td>\n",
       "    </tr>\n",
       "    <tr>\n",
       "      <th>8755</th>\n",
       "      <td>0</td>\n",
       "      <td>0</td>\n",
       "      <td>0</td>\n",
       "      <td>1</td>\n",
       "      <td>0</td>\n",
       "      <td>0</td>\n",
       "      <td>0</td>\n",
       "    </tr>\n",
       "    <tr>\n",
       "      <th>8756</th>\n",
       "      <td>0</td>\n",
       "      <td>0</td>\n",
       "      <td>0</td>\n",
       "      <td>1</td>\n",
       "      <td>0</td>\n",
       "      <td>0</td>\n",
       "      <td>0</td>\n",
       "    </tr>\n",
       "    <tr>\n",
       "      <th>8757</th>\n",
       "      <td>0</td>\n",
       "      <td>0</td>\n",
       "      <td>0</td>\n",
       "      <td>1</td>\n",
       "      <td>0</td>\n",
       "      <td>0</td>\n",
       "      <td>0</td>\n",
       "    </tr>\n",
       "    <tr>\n",
       "      <th>8758</th>\n",
       "      <td>0</td>\n",
       "      <td>0</td>\n",
       "      <td>0</td>\n",
       "      <td>1</td>\n",
       "      <td>0</td>\n",
       "      <td>0</td>\n",
       "      <td>0</td>\n",
       "    </tr>\n",
       "    <tr>\n",
       "      <th>8759</th>\n",
       "      <td>0</td>\n",
       "      <td>0</td>\n",
       "      <td>0</td>\n",
       "      <td>1</td>\n",
       "      <td>0</td>\n",
       "      <td>0</td>\n",
       "      <td>0</td>\n",
       "    </tr>\n",
       "  </tbody>\n",
       "</table>\n",
       "<p>8760 rows × 7 columns</p>\n",
       "</div>"
      ],
      "text/plain": [
       "      Friday  Monday  Saturday  Sunday  Thursday  Tuesday  Wednesday\n",
       "0          0       0         0       1         0        0          0\n",
       "1          0       0         0       1         0        0          0\n",
       "2          0       0         0       1         0        0          0\n",
       "3          0       0         0       1         0        0          0\n",
       "4          0       0         0       1         0        0          0\n",
       "...      ...     ...       ...     ...       ...      ...        ...\n",
       "8755       0       0         0       1         0        0          0\n",
       "8756       0       0         0       1         0        0          0\n",
       "8757       0       0         0       1         0        0          0\n",
       "8758       0       0         0       1         0        0          0\n",
       "8759       0       0         0       1         0        0          0\n",
       "\n",
       "[8760 rows x 7 columns]"
      ]
     },
     "execution_count": 9,
     "metadata": {},
     "output_type": "execute_result"
    }
   ],
   "source": [
    "weekday_encoded = pd.get_dummies(weekday_df, columns = ['Week day'])\n",
    "weekday_encoded"
   ]
  },
  {
   "cell_type": "code",
   "execution_count": 10,
   "metadata": {
    "colab": {
     "base_uri": "https://localhost:8080/"
    },
    "executionInfo": {
     "elapsed": 6,
     "status": "ok",
     "timestamp": 1724236978226,
     "user": {
      "displayName": "Błażej B",
      "userId": "09393835138747022407"
     },
     "user_tz": -120
    },
    "id": "5fyBbACFbLKL",
    "outputId": "50c98057-9517-4765-ebe7-f74ad9067068",
    "pycharm": {
     "name": "#%%\n"
    }
   },
   "outputs": [
    {
     "name": "stdout",
     "output_type": "stream",
     "text": [
      "(8760, 21)\n"
     ]
    }
   ],
   "source": [
    "X = np.concatenate((cooling_df, month_encoded, weekday_encoded), axis=1)\n",
    "X\n",
    "print(X.shape)"
   ]
  },
  {
   "cell_type": "code",
   "execution_count": 11,
   "metadata": {
    "colab": {
     "base_uri": "https://localhost:8080/"
    },
    "executionInfo": {
     "elapsed": 4,
     "status": "ok",
     "timestamp": 1724236978226,
     "user": {
      "displayName": "Błażej B",
      "userId": "09393835138747022407"
     },
     "user_tz": -120
    },
    "id": "K_UDN4SqcL8S",
    "outputId": "8ffc3374-8cdb-435c-fd50-6c5c43d44244",
    "pycharm": {
     "name": "#%%\n"
    }
   },
   "outputs": [
    {
     "data": {
      "text/plain": [
       "array([0., 0., 0., ..., 0., 0., 0.])"
      ]
     },
     "execution_count": 11,
     "metadata": {},
     "output_type": "execute_result"
    }
   ],
   "source": [
    "y= data_frame['Chiller Output (kW)'].values\n",
    "y"
   ]
  },
  {
   "cell_type": "code",
   "execution_count": 12,
   "metadata": {
    "id": "Dh10tWjzcGdf",
    "pycharm": {
     "name": "#%%\n"
    }
   },
   "outputs": [],
   "source": [
    "X_train, X_test, y_train, y_test = train_test_split(X, y, test_size=0.2)"
   ]
  },
  {
   "cell_type": "code",
   "execution_count": 13,
   "metadata": {
    "colab": {
     "base_uri": "https://localhost:8080/"
    },
    "executionInfo": {
     "elapsed": 6438,
     "status": "ok",
     "timestamp": 1724236996793,
     "user": {
      "displayName": "Błażej B",
      "userId": "09393835138747022407"
     },
     "user_tz": -120
    },
    "id": "8TfMYrKqcZ3C",
    "outputId": "1eafb27e-386c-433b-d0da-b49dee1a3d7f",
    "pycharm": {
     "name": "#%%\n"
    }
   },
   "outputs": [
    {
     "name": "stdout",
     "output_type": "stream",
     "text": [
      "Note: you may need to restart the kernel to use updated packages.\n"
     ]
    }
   ],
   "source": [
    "pip install -q -U keras-tuner"
   ]
  },
  {
   "cell_type": "code",
   "execution_count": 14,
   "metadata": {
    "id": "YXlnTDdecbrO",
    "pycharm": {
     "name": "#%%\n"
    }
   },
   "outputs": [],
   "source": [
    "import tensorflow as tf\n",
    "from tensorflow import keras\n",
    "from tensorflow.keras.models import Sequential\n",
    "import keras_tuner as kt\n",
    "from keras_tuner.tuners import RandomSearch\n",
    "from keras.layers import Dense, Input\n",
    "from keras.optimizers import Adam"
   ]
  },
  {
   "cell_type": "code",
   "execution_count": null,
   "metadata": {
    "collapsed": false,
    "jupyter": {
     "outputs_hidden": false
    },
    "pycharm": {
     "name": "#%%\n"
    }
   },
   "outputs": [],
   "source": [
    "print(\"TensorFlow version:\", tf.__version__)\n",
    "print(\"Keras version:\", keras.__version__)"
   ]
  },
  {
   "cell_type": "raw",
   "metadata": {
    "collapsed": false,
    "jupyter": {
     "outputs_hidden": false
    },
    "pycharm": {
     "name": "#%% raw\n"
    }
   },
   "source": [
    "Tuning number of layers and number of neurons ze scalerem"
   ]
  },
  {
   "cell_type": "raw",
   "metadata": {
    "id": "ljdtrOJrfCvG",
    "pycharm": {
     "name": "#%% raw\n"
    }
   },
   "source": [
    "Tuning number of layers and number of neurons ze scalerem"
   ]
  },
  {
   "cell_type": "code",
   "execution_count": 16,
   "metadata": {
    "id": "IuiypV2kciZy",
    "pycharm": {
     "name": "#%%\n"
    }
   },
   "outputs": [],
   "source": [
    "from sklearn.preprocessing import StandardScaler\n",
    "cooling_scaler = StandardScaler()\n",
    "X_scaled_train = cooling_scaler.fit_transform(X_train)\n",
    "X_scaled_test = cooling_scaler.transform(X_test)"
   ]
  },
  {
   "cell_type": "code",
   "execution_count": 17,
   "metadata": {
    "id": "2vAaMEBOcvea",
    "pycharm": {
     "name": "#%%\n"
    }
   },
   "outputs": [],
   "source": [
    "def create_neural_network(hp):\n",
    "    model = Sequential()\n",
    "    model.add(Dense(64, input_dim=21, activation='relu'))\n",
    "\n",
    "    for i in range(hp.Int('layers', 1, 4)):\n",
    "      model.add(Dense(units= hp.Int('layer_'+ str(i),\n",
    "                                  min_value=0,\n",
    "                                  max_value=128,\n",
    "                                  step=16),\n",
    "                    activation=hp.Choice('act_' + str(i), ['relu'])))\n",
    "\n",
    "    model.add(Dense(1))\n",
    "\n",
    "    model.compile(loss='mean_squared_error',\n",
    "                  optimizer=keras.optimizers.Adam(\n",
    "                      hp.Choice('learning_rate',\n",
    "                                values=[1e-2, 1e-3, 1e-4])),\n",
    "                  metrics=['mae'])\n",
    "    return model"
   ]
  },
  {
   "cell_type": "code",
   "execution_count": 18,
   "metadata": {
    "colab": {
     "base_uri": "https://localhost:8080/"
    },
    "executionInfo": {
     "elapsed": 5,
     "status": "ok",
     "timestamp": 1724236997381,
     "user": {
      "displayName": "Błażej B",
      "userId": "09393835138747022407"
     },
     "user_tz": -120
    },
    "id": "TxJsdMOwdB-Z",
    "outputId": "cdc41274-6cb5-45e7-f038-a423376b2b71",
    "pycharm": {
     "name": "#%%\n"
    }
   },
   "outputs": [
    {
     "name": "stdout",
     "output_type": "stream",
     "text": [
      "Reloading Tuner from my_dir\\Cooling_Scaled_Tuning\\tuner0.json\n"
     ]
    }
   ],
   "source": [
    "tuner_scaled_cooling = RandomSearch(\n",
    "    create_neural_network,\n",
    "    objective= 'val_mae',\n",
    "    max_trials=10,\n",
    "    executions_per_trial = 3,\n",
    "    directory='my_dir',\n",
    "    project_name='Cooling_Scaled_Tuning'\n",
    ")"
   ]
  },
  {
   "cell_type": "code",
   "execution_count": 19,
   "metadata": {
    "colab": {
     "base_uri": "https://localhost:8080/"
    },
    "executionInfo": {
     "elapsed": 333,
     "status": "ok",
     "timestamp": 1724238358098,
     "user": {
      "displayName": "Błażej B",
      "userId": "09393835138747022407"
     },
     "user_tz": -120
    },
    "id": "sgGiKlHGmydE",
    "outputId": "5736efea-8c06-46ec-c231-600dcba70de3",
    "pycharm": {
     "name": "#%%\n"
    }
   },
   "outputs": [
    {
     "name": "stdout",
     "output_type": "stream",
     "text": [
      "Search space summary\n",
      "Default search space size: 4\n",
      "layers (Int)\n",
      "{'default': None, 'conditions': [], 'min_value': 1, 'max_value': 4, 'step': 1, 'sampling': 'linear'}\n",
      "layer_0 (Int)\n",
      "{'default': None, 'conditions': [], 'min_value': 0, 'max_value': 128, 'step': 16, 'sampling': 'linear'}\n",
      "act_0 (Choice)\n",
      "{'default': 'relu', 'conditions': [], 'values': ['relu'], 'ordered': False}\n",
      "learning_rate (Choice)\n",
      "{'default': 0.01, 'conditions': [], 'values': [0.01, 0.001, 0.0001], 'ordered': True}\n"
     ]
    }
   ],
   "source": [
    "tuner_scaled_cooling.search_space_summary()"
   ]
  },
  {
   "cell_type": "code",
   "execution_count": 20,
   "metadata": {
    "pycharm": {
     "name": "#%%\n"
    }
   },
   "outputs": [
    {
     "name": "stdout",
     "output_type": "stream",
     "text": [
      "Keras version: 3.4.1\n",
      "TensorFlow version: 2.17.0\n"
     ]
    }
   ],
   "source": [
    "print(\"Keras version:\", keras.__version__)\n",
    "print(\"TensorFlow version:\", tf.__version__)"
   ]
  },
  {
   "cell_type": "code",
   "execution_count": 2,
   "metadata": {
    "colab": {
     "base_uri": "https://localhost:8080/"
    },
    "executionInfo": {
     "elapsed": 639159,
     "status": "ok",
     "timestamp": 1724237636536,
     "user": {
      "displayName": "Błażej B",
      "userId": "09393835138747022407"
     },
     "user_tz": -120
    },
    "id": "G6xRDF1IdOKE",
    "outputId": "ca93e17d-019c-448d-8407-b98e02de967d",
    "pycharm": {
     "name": "#%%\n"
    }
   },
   "outputs": [
    {
     "ename": "NameError",
     "evalue": "name 'tuner_scaled_cooling' is not defined",
     "output_type": "error",
     "traceback": [
      "\u001b[1;31m---------------------------------------------------------------------------\u001b[0m",
      "\u001b[1;31mNameError\u001b[0m                                 Traceback (most recent call last)",
      "\u001b[1;32m~\\AppData\\Local\\Temp/ipykernel_6348/4280562610.py\u001b[0m in \u001b[0;36m<module>\u001b[1;34m\u001b[0m\n\u001b[1;32m----> 1\u001b[1;33m tuner_scaled_cooling.search(X_scaled_train, y_train,\n\u001b[0m\u001b[0;32m      2\u001b[0m              \u001b[0mepochs\u001b[0m\u001b[1;33m=\u001b[0m\u001b[1;36m20\u001b[0m\u001b[1;33m,\u001b[0m\u001b[1;33m\u001b[0m\u001b[1;33m\u001b[0m\u001b[0m\n\u001b[0;32m      3\u001b[0m              validation_data=(X_scaled_test, y_test))\n",
      "\u001b[1;31mNameError\u001b[0m: name 'tuner_scaled_cooling' is not defined"
     ]
    }
   ],
   "source": [
    "tuner_scaled_cooling.search(X_scaled_train, y_train,\n",
    "             epochs=20,\n",
    "             validation_data=(X_scaled_test, y_test))"
   ]
  },
  {
   "cell_type": "code",
   "execution_count": 1,
   "metadata": {
    "colab": {
     "base_uri": "https://localhost:8080/"
    },
    "executionInfo": {
     "elapsed": 313,
     "status": "ok",
     "timestamp": 1724238567689,
     "user": {
      "displayName": "Błażej B",
      "userId": "09393835138747022407"
     },
     "user_tz": -120
    },
    "id": "sgEUhvCKmpUW",
    "outputId": "2f4024fc-7b17-466e-8106-b5fa69aafc73",
    "pycharm": {
     "name": "#%%\n"
    }
   },
   "outputs": [
    {
     "ename": "NameError",
     "evalue": "name 'tuner_scaled_cooling' is not defined",
     "output_type": "error",
     "traceback": [
      "\u001b[1;31m---------------------------------------------------------------------------\u001b[0m",
      "\u001b[1;31mNameError\u001b[0m                                 Traceback (most recent call last)",
      "\u001b[1;32m~\\AppData\\Local\\Temp/ipykernel_6348/719899815.py\u001b[0m in \u001b[0;36m<module>\u001b[1;34m\u001b[0m\n\u001b[1;32m----> 1\u001b[1;33m \u001b[0mtuner_scaled_cooling\u001b[0m\u001b[1;33m.\u001b[0m\u001b[0mresults_summary\u001b[0m\u001b[1;33m(\u001b[0m\u001b[1;33m)\u001b[0m\u001b[1;33m\u001b[0m\u001b[1;33m\u001b[0m\u001b[0m\n\u001b[0m",
      "\u001b[1;31mNameError\u001b[0m: name 'tuner_scaled_cooling' is not defined"
     ]
    }
   ],
   "source": [
    "tuner_scaled_cooling.results_summary()"
   ]
  },
  {
   "cell_type": "markdown",
   "metadata": {
    "id": "9NhyAG7Te6r6",
    "pycharm": {
     "name": "#%% md\n"
    }
   },
   "source": [
    "# Bez Scalera"
   ]
  },
  {
   "cell_type": "code",
   "execution_count": 18,
   "metadata": {
    "colab": {
     "base_uri": "https://localhost:8080/"
    },
    "executionInfo": {
     "elapsed": 2,
     "status": "ok",
     "timestamp": 1724238344843,
     "user": {
      "displayName": "Błażej B",
      "userId": "09393835138747022407"
     },
     "user_tz": -120
    },
    "id": "7Z7mSdEge6W-",
    "outputId": "27f94df6-5e41-41fd-c44e-6c704a3d2b43",
    "pycharm": {
     "name": "#%%\n"
    }
   },
   "outputs": [
    {
     "name": "stderr",
     "output_type": "stream",
     "text": [
      "e:\\programowanie\\python\\pythonworkspace\\venv\\lib\\site-packages\\keras\\src\\layers\\core\\dense.py:87: UserWarning: Do not pass an `input_shape`/`input_dim` argument to a layer. When using Sequential models, prefer using an `Input(shape)` object as the first layer in the model instead.\n",
      "  super().__init__(activity_regularizer=activity_regularizer, **kwargs)\n"
     ]
    }
   ],
   "source": [
    "tuner_NonScaled_cooling = RandomSearch(\n",
    "    create_neural_network,\n",
    "    objective= 'val_mae',\n",
    "    max_trials=10,\n",
    "    executions_per_trial = 3,\n",
    "    directory='my_dir',\n",
    "    project_name='Cooling_NonScaled_Tuning'\n",
    ")"
   ]
  },
  {
   "cell_type": "code",
   "execution_count": 19,
   "metadata": {
    "colab": {
     "base_uri": "https://localhost:8080/"
    },
    "executionInfo": {
     "elapsed": 282,
     "status": "ok",
     "timestamp": 1724238421727,
     "user": {
      "displayName": "Błażej B",
      "userId": "09393835138747022407"
     },
     "user_tz": -120
    },
    "id": "1-DiQV1ZngI8",
    "outputId": "969b43c2-1e70-4073-e581-c0be1505a769",
    "pycharm": {
     "name": "#%%\n"
    }
   },
   "outputs": [
    {
     "name": "stdout",
     "output_type": "stream",
     "text": [
      "Search space summary\n",
      "Default search space size: 4\n",
      "layers (Int)\n",
      "{'default': None, 'conditions': [], 'min_value': 1, 'max_value': 4, 'step': 1, 'sampling': 'linear'}\n",
      "layer_0 (Int)\n",
      "{'default': None, 'conditions': [], 'min_value': 0, 'max_value': 128, 'step': 16, 'sampling': 'linear'}\n",
      "act_0 (Choice)\n",
      "{'default': 'relu', 'conditions': [], 'values': ['relu'], 'ordered': False}\n",
      "learning_rate (Choice)\n",
      "{'default': 0.01, 'conditions': [], 'values': [0.01, 0.001, 0.0001], 'ordered': True}\n"
     ]
    }
   ],
   "source": [
    "tuner_NonScaled_cooling.search_space_summary()"
   ]
  },
  {
   "cell_type": "code",
   "execution_count": null,
   "metadata": {
    "colab": {
     "base_uri": "https://localhost:8080/"
    },
    "executionInfo": {
     "elapsed": 707562,
     "status": "ok",
     "timestamp": 1724238344096,
     "user": {
      "displayName": "Błażej B",
      "userId": "09393835138747022407"
     },
     "user_tz": -120
    },
    "id": "vnyYGM9OgB_E",
    "outputId": "150d83fa-7111-4672-bc90-47046da94aef",
    "pycharm": {
     "name": "#%%\n"
    }
   },
   "outputs": [
    {
     "name": "stdout",
     "output_type": "stream",
     "text": [
      "Trial 2 Complete [00h 00m 18s]\n",
      "val_mae: 93.74652353922527\n",
      "\n",
      "Best val_mae So Far: 29.783049901326496\n",
      "Total elapsed time: 00h 00m 35s\n",
      "\n",
      "Search: Running Trial #3\n",
      "\n",
      "Value             |Best Value So Far |Hyperparameter\n",
      "3                 |1                 |layers\n",
      "48                |64                |layer_0\n",
      "relu              |relu              |act_0\n",
      "0.001             |0.01              |learning_rate\n",
      "\n",
      "Epoch 1/20\n"
     ]
    }
   ],
   "source": [
    "tuner_NonScaled_cooling.search(X_train, y_train,\n",
    "             epochs=20,\n",
    "             validation_data=(X_test, y_test))"
   ]
  },
  {
   "cell_type": "code",
   "execution_count": null,
   "metadata": {
    "colab": {
     "base_uri": "https://localhost:8080/"
    },
    "executionInfo": {
     "elapsed": 294,
     "status": "ok",
     "timestamp": 1724238428212,
     "user": {
      "displayName": "Błażej B",
      "userId": "09393835138747022407"
     },
     "user_tz": -120
    },
    "id": "UeJJCt3Bnc0a",
    "outputId": "82106ec6-84d6-49e3-cf77-2f3b85c1a91f",
    "pycharm": {
     "name": "#%%\n"
    }
   },
   "outputs": [],
   "source": [
    "tuner_NonScaled_cooling.results_summary()"
   ]
  },
  {
   "cell_type": "markdown",
   "metadata": {
    "id": "iVW7yLrNn4fx",
    "pycharm": {
     "name": "#%% md\n"
    }
   },
   "source": [
    "# Tworzenie \"optymalnego\" modelu"
   ]
  },
  {
   "cell_type": "code",
   "execution_count": 19,
   "metadata": {
    "id": "msfIJd7XnvjN",
    "pycharm": {
     "name": "#%%\n"
    }
   },
   "outputs": [],
   "source": [
    "def create_cooling_model():\n",
    "    model = Sequential()\n",
    "\n",
    "    model.add(Dense(92, input_dim=21, activation='relu'))\n",
    "    model.add(Dense(116, activation='relu'))\n",
    "    model.add(Dense(100, activation='relu'))\n",
    "    model.add(Dense(1))\n",
    "\n",
    "    learing_rate = 0.01\n",
    "    optimizer = Adam(learning_rate = learing_rate)\n",
    "\n",
    "    model.compile(loss='mean_squared_error', optimizer=optimizer, metrics=['mae'])\n",
    "\n",
    "    return model"
   ]
  },
  {
   "cell_type": "code",
   "execution_count": 22,
   "metadata": {
    "colab": {
     "base_uri": "https://localhost:8080/"
    },
    "executionInfo": {
     "elapsed": 110343,
     "status": "ok",
     "timestamp": 1724239368940,
     "user": {
      "displayName": "Błażej B",
      "userId": "09393835138747022407"
     },
     "user_tz": -120
    },
    "id": "0-I9_Yj9pJpj",
    "outputId": "acb52811-9bf7-4af1-e955-97e2d237bef6",
    "pycharm": {
     "name": "#%%\n"
    }
   },
   "outputs": [
    {
     "name": "stdout",
     "output_type": "stream",
     "text": [
      "Epoch 1/300\n"
     ]
    },
    {
     "name": "stderr",
     "output_type": "stream",
     "text": [
      "e:\\programowanie\\python\\pythonworkspace\\venv\\lib\\site-packages\\keras\\src\\layers\\core\\dense.py:87: UserWarning: Do not pass an `input_shape`/`input_dim` argument to a layer. When using Sequential models, prefer using an `Input(shape)` object as the first layer in the model instead.\n",
      "  super().__init__(activity_regularizer=activity_regularizer, **kwargs)\n"
     ]
    },
    {
     "name": "stdout",
     "output_type": "stream",
     "text": [
      "\u001b[1m219/219\u001b[0m \u001b[32m━━━━━━━━━━━━━━━━━━━━\u001b[0m\u001b[37m\u001b[0m \u001b[1m1s\u001b[0m 2ms/step - loss: 38795.3945 - mae: 95.4482 - val_loss: 6216.2007 - val_mae: 39.0849\n",
      "Epoch 2/300\n",
      "\u001b[1m219/219\u001b[0m \u001b[32m━━━━━━━━━━━━━━━━━━━━\u001b[0m\u001b[37m\u001b[0m \u001b[1m0s\u001b[0m 1ms/step - loss: 6184.3223 - mae: 37.3654 - val_loss: 4802.8374 - val_mae: 33.9326\n",
      "Epoch 3/300\n",
      "\u001b[1m219/219\u001b[0m \u001b[32m━━━━━━━━━━━━━━━━━━━━\u001b[0m\u001b[37m\u001b[0m \u001b[1m0s\u001b[0m 1ms/step - loss: 5689.8086 - mae: 35.7129 - val_loss: 4806.4976 - val_mae: 34.3098\n",
      "Epoch 4/300\n",
      "\u001b[1m219/219\u001b[0m \u001b[32m━━━━━━━━━━━━━━━━━━━━\u001b[0m\u001b[37m\u001b[0m \u001b[1m0s\u001b[0m 1ms/step - loss: 5422.7798 - mae: 32.5891 - val_loss: 4122.9946 - val_mae: 30.5672\n",
      "Epoch 5/300\n",
      "\u001b[1m219/219\u001b[0m \u001b[32m━━━━━━━━━━━━━━━━━━━━\u001b[0m\u001b[37m\u001b[0m \u001b[1m0s\u001b[0m 1ms/step - loss: 5406.4087 - mae: 32.3252 - val_loss: 6060.8320 - val_mae: 37.0155\n",
      "Epoch 6/300\n",
      "\u001b[1m219/219\u001b[0m \u001b[32m━━━━━━━━━━━━━━━━━━━━\u001b[0m\u001b[37m\u001b[0m \u001b[1m0s\u001b[0m 1ms/step - loss: 6191.9673 - mae: 34.3213 - val_loss: 4699.2075 - val_mae: 32.3281\n",
      "Epoch 7/300\n",
      "\u001b[1m219/219\u001b[0m \u001b[32m━━━━━━━━━━━━━━━━━━━━\u001b[0m\u001b[37m\u001b[0m \u001b[1m0s\u001b[0m 1ms/step - loss: 4704.8823 - mae: 30.2038 - val_loss: 3739.8530 - val_mae: 30.6619\n",
      "Epoch 8/300\n",
      "\u001b[1m219/219\u001b[0m \u001b[32m━━━━━━━━━━━━━━━━━━━━\u001b[0m\u001b[37m\u001b[0m \u001b[1m0s\u001b[0m 1ms/step - loss: 3727.0242 - mae: 28.0553 - val_loss: 3682.7375 - val_mae: 29.3985\n",
      "Epoch 9/300\n",
      "\u001b[1m219/219\u001b[0m \u001b[32m━━━━━━━━━━━━━━━━━━━━\u001b[0m\u001b[37m\u001b[0m \u001b[1m0s\u001b[0m 1ms/step - loss: 3927.5063 - mae: 28.3231 - val_loss: 3664.9910 - val_mae: 29.4060\n",
      "Epoch 10/300\n",
      "\u001b[1m219/219\u001b[0m \u001b[32m━━━━━━━━━━━━━━━━━━━━\u001b[0m\u001b[37m\u001b[0m \u001b[1m0s\u001b[0m 1ms/step - loss: 3975.6033 - mae: 27.8874 - val_loss: 4677.7534 - val_mae: 31.0581\n",
      "Epoch 11/300\n",
      "\u001b[1m219/219\u001b[0m \u001b[32m━━━━━━━━━━━━━━━━━━━━\u001b[0m\u001b[37m\u001b[0m \u001b[1m0s\u001b[0m 1ms/step - loss: 3843.1992 - mae: 27.5877 - val_loss: 3988.9277 - val_mae: 29.0958\n",
      "Epoch 12/300\n",
      "\u001b[1m219/219\u001b[0m \u001b[32m━━━━━━━━━━━━━━━━━━━━\u001b[0m\u001b[37m\u001b[0m \u001b[1m0s\u001b[0m 1ms/step - loss: 4576.2090 - mae: 29.4198 - val_loss: 3095.5737 - val_mae: 26.1975\n",
      "Epoch 13/300\n",
      "\u001b[1m219/219\u001b[0m \u001b[32m━━━━━━━━━━━━━━━━━━━━\u001b[0m\u001b[37m\u001b[0m \u001b[1m0s\u001b[0m 1ms/step - loss: 4201.8145 - mae: 28.7937 - val_loss: 7086.7266 - val_mae: 39.2102\n",
      "Epoch 14/300\n",
      "\u001b[1m219/219\u001b[0m \u001b[32m━━━━━━━━━━━━━━━━━━━━\u001b[0m\u001b[37m\u001b[0m \u001b[1m0s\u001b[0m 1ms/step - loss: 3939.3481 - mae: 27.9679 - val_loss: 3885.5391 - val_mae: 29.2347\n",
      "Epoch 15/300\n",
      "\u001b[1m219/219\u001b[0m \u001b[32m━━━━━━━━━━━━━━━━━━━━\u001b[0m\u001b[37m\u001b[0m \u001b[1m0s\u001b[0m 1ms/step - loss: 3512.1292 - mae: 26.5158 - val_loss: 3340.3684 - val_mae: 27.9325\n",
      "Epoch 16/300\n",
      "\u001b[1m219/219\u001b[0m \u001b[32m━━━━━━━━━━━━━━━━━━━━\u001b[0m\u001b[37m\u001b[0m \u001b[1m0s\u001b[0m 1ms/step - loss: 3686.4050 - mae: 26.2586 - val_loss: 3604.5159 - val_mae: 27.7558\n",
      "Epoch 17/300\n",
      "\u001b[1m219/219\u001b[0m \u001b[32m━━━━━━━━━━━━━━━━━━━━\u001b[0m\u001b[37m\u001b[0m \u001b[1m0s\u001b[0m 1ms/step - loss: 3609.4749 - mae: 25.9640 - val_loss: 3911.0190 - val_mae: 28.9817\n",
      "Epoch 18/300\n",
      "\u001b[1m219/219\u001b[0m \u001b[32m━━━━━━━━━━━━━━━━━━━━\u001b[0m\u001b[37m\u001b[0m \u001b[1m0s\u001b[0m 1ms/step - loss: 3332.7542 - mae: 25.4256 - val_loss: 2980.4429 - val_mae: 26.3378\n",
      "Epoch 19/300\n",
      "\u001b[1m219/219\u001b[0m \u001b[32m━━━━━━━━━━━━━━━━━━━━\u001b[0m\u001b[37m\u001b[0m \u001b[1m0s\u001b[0m 1ms/step - loss: 3224.8733 - mae: 24.7964 - val_loss: 3034.4800 - val_mae: 25.4119\n",
      "Epoch 20/300\n",
      "\u001b[1m219/219\u001b[0m \u001b[32m━━━━━━━━━━━━━━━━━━━━\u001b[0m\u001b[37m\u001b[0m \u001b[1m0s\u001b[0m 1ms/step - loss: 3176.5916 - mae: 24.8498 - val_loss: 5710.8916 - val_mae: 34.7363\n",
      "Epoch 21/300\n",
      "\u001b[1m219/219\u001b[0m \u001b[32m━━━━━━━━━━━━━━━━━━━━\u001b[0m\u001b[37m\u001b[0m \u001b[1m0s\u001b[0m 1000us/step - loss: 3223.9475 - mae: 24.4683 - val_loss: 2760.1414 - val_mae: 25.3200\n",
      "Epoch 22/300\n",
      "\u001b[1m219/219\u001b[0m \u001b[32m━━━━━━━━━━━━━━━━━━━━\u001b[0m\u001b[37m\u001b[0m \u001b[1m0s\u001b[0m 1ms/step - loss: 3247.9819 - mae: 25.1999 - val_loss: 2612.0151 - val_mae: 24.2143\n",
      "Epoch 23/300\n",
      "\u001b[1m219/219\u001b[0m \u001b[32m━━━━━━━━━━━━━━━━━━━━\u001b[0m\u001b[37m\u001b[0m \u001b[1m0s\u001b[0m 1ms/step - loss: 3351.0999 - mae: 24.8802 - val_loss: 3474.2090 - val_mae: 28.8836\n",
      "Epoch 24/300\n",
      "\u001b[1m219/219\u001b[0m \u001b[32m━━━━━━━━━━━━━━━━━━━━\u001b[0m\u001b[37m\u001b[0m \u001b[1m0s\u001b[0m 1ms/step - loss: 3524.2056 - mae: 25.1716 - val_loss: 3586.6621 - val_mae: 27.6045\n",
      "Epoch 25/300\n",
      "\u001b[1m219/219\u001b[0m \u001b[32m━━━━━━━━━━━━━━━━━━━━\u001b[0m\u001b[37m\u001b[0m \u001b[1m0s\u001b[0m 995us/step - loss: 3230.0017 - mae: 24.7706 - val_loss: 2454.3354 - val_mae: 23.5620\n",
      "Epoch 26/300\n",
      "\u001b[1m219/219\u001b[0m \u001b[32m━━━━━━━━━━━━━━━━━━━━\u001b[0m\u001b[37m\u001b[0m \u001b[1m0s\u001b[0m 1ms/step - loss: 2988.7100 - mae: 23.8655 - val_loss: 3220.7617 - val_mae: 26.8837\n",
      "Epoch 27/300\n",
      "\u001b[1m219/219\u001b[0m \u001b[32m━━━━━━━━━━━━━━━━━━━━\u001b[0m\u001b[37m\u001b[0m \u001b[1m0s\u001b[0m 1ms/step - loss: 2680.9868 - mae: 22.8878 - val_loss: 3853.9246 - val_mae: 29.3076\n",
      "Epoch 28/300\n",
      "\u001b[1m219/219\u001b[0m \u001b[32m━━━━━━━━━━━━━━━━━━━━\u001b[0m\u001b[37m\u001b[0m \u001b[1m0s\u001b[0m 1ms/step - loss: 2503.5471 - mae: 21.8386 - val_loss: 2586.8186 - val_mae: 24.6574\n",
      "Epoch 29/300\n",
      "\u001b[1m219/219\u001b[0m \u001b[32m━━━━━━━━━━━━━━━━━━━━\u001b[0m\u001b[37m\u001b[0m \u001b[1m0s\u001b[0m 1ms/step - loss: 2700.5864 - mae: 22.7044 - val_loss: 2755.9978 - val_mae: 23.6536\n",
      "Epoch 30/300\n",
      "\u001b[1m219/219\u001b[0m \u001b[32m━━━━━━━━━━━━━━━━━━━━\u001b[0m\u001b[37m\u001b[0m \u001b[1m0s\u001b[0m 1ms/step - loss: 3017.4856 - mae: 23.7034 - val_loss: 3726.5249 - val_mae: 28.8136\n",
      "Epoch 31/300\n",
      "\u001b[1m219/219\u001b[0m \u001b[32m━━━━━━━━━━━━━━━━━━━━\u001b[0m\u001b[37m\u001b[0m \u001b[1m0s\u001b[0m 1ms/step - loss: 3693.5676 - mae: 24.3893 - val_loss: 2736.0544 - val_mae: 24.4926\n",
      "Epoch 32/300\n",
      "\u001b[1m219/219\u001b[0m \u001b[32m━━━━━━━━━━━━━━━━━━━━\u001b[0m\u001b[37m\u001b[0m \u001b[1m0s\u001b[0m 1ms/step - loss: 2612.5776 - mae: 23.0627 - val_loss: 2888.3853 - val_mae: 25.9113\n",
      "Epoch 33/300\n",
      "\u001b[1m219/219\u001b[0m \u001b[32m━━━━━━━━━━━━━━━━━━━━\u001b[0m\u001b[37m\u001b[0m \u001b[1m0s\u001b[0m 1ms/step - loss: 2802.8127 - mae: 23.5637 - val_loss: 2612.8442 - val_mae: 24.6057\n",
      "Epoch 34/300\n",
      "\u001b[1m219/219\u001b[0m \u001b[32m━━━━━━━━━━━━━━━━━━━━\u001b[0m\u001b[37m\u001b[0m \u001b[1m0s\u001b[0m 1ms/step - loss: 2435.7925 - mae: 22.6034 - val_loss: 3358.4824 - val_mae: 26.9539\n",
      "Epoch 35/300\n",
      "\u001b[1m219/219\u001b[0m \u001b[32m━━━━━━━━━━━━━━━━━━━━\u001b[0m\u001b[37m\u001b[0m \u001b[1m0s\u001b[0m 1000us/step - loss: 3080.6672 - mae: 23.9956 - val_loss: 2617.9363 - val_mae: 23.4375\n",
      "Epoch 36/300\n",
      "\u001b[1m219/219\u001b[0m \u001b[32m━━━━━━━━━━━━━━━━━━━━\u001b[0m\u001b[37m\u001b[0m \u001b[1m0s\u001b[0m 1ms/step - loss: 2609.8989 - mae: 22.2145 - val_loss: 2179.8113 - val_mae: 21.8953\n",
      "Epoch 37/300\n",
      "\u001b[1m219/219\u001b[0m \u001b[32m━━━━━━━━━━━━━━━━━━━━\u001b[0m\u001b[37m\u001b[0m \u001b[1m0s\u001b[0m 995us/step - loss: 2198.0732 - mae: 20.2978 - val_loss: 2405.3896 - val_mae: 23.3818\n",
      "Epoch 38/300\n",
      "\u001b[1m219/219\u001b[0m \u001b[32m━━━━━━━━━━━━━━━━━━━━\u001b[0m\u001b[37m\u001b[0m \u001b[1m0s\u001b[0m 1ms/step - loss: 2477.2046 - mae: 21.6714 - val_loss: 2360.9646 - val_mae: 23.3346\n",
      "Epoch 39/300\n",
      "\u001b[1m219/219\u001b[0m \u001b[32m━━━━━━━━━━━━━━━━━━━━\u001b[0m\u001b[37m\u001b[0m \u001b[1m0s\u001b[0m 1ms/step - loss: 2306.9497 - mae: 21.6068 - val_loss: 2579.5073 - val_mae: 23.6262\n",
      "Epoch 40/300\n",
      "\u001b[1m219/219\u001b[0m \u001b[32m━━━━━━━━━━━━━━━━━━━━\u001b[0m\u001b[37m\u001b[0m \u001b[1m0s\u001b[0m 1ms/step - loss: 2781.1919 - mae: 22.0314 - val_loss: 2195.2200 - val_mae: 21.7927\n",
      "Epoch 41/300\n",
      "\u001b[1m219/219\u001b[0m \u001b[32m━━━━━━━━━━━━━━━━━━━━\u001b[0m\u001b[37m\u001b[0m \u001b[1m0s\u001b[0m 991us/step - loss: 2408.8228 - mae: 20.7467 - val_loss: 2550.4490 - val_mae: 23.5166\n",
      "Epoch 42/300\n",
      "\u001b[1m219/219\u001b[0m \u001b[32m━━━━━━━━━━━━━━━━━━━━\u001b[0m\u001b[37m\u001b[0m \u001b[1m0s\u001b[0m 1ms/step - loss: 2711.7520 - mae: 22.0019 - val_loss: 2259.8174 - val_mae: 22.6032\n",
      "Epoch 43/300\n",
      "\u001b[1m219/219\u001b[0m \u001b[32m━━━━━━━━━━━━━━━━━━━━\u001b[0m\u001b[37m\u001b[0m \u001b[1m0s\u001b[0m 1ms/step - loss: 2418.5288 - mae: 21.0131 - val_loss: 2285.2065 - val_mae: 22.4000\n",
      "Epoch 44/300\n",
      "\u001b[1m219/219\u001b[0m \u001b[32m━━━━━━━━━━━━━━━━━━━━\u001b[0m\u001b[37m\u001b[0m \u001b[1m0s\u001b[0m 995us/step - loss: 2513.1384 - mae: 20.7182 - val_loss: 2126.3308 - val_mae: 21.5788\n",
      "Epoch 45/300\n",
      "\u001b[1m219/219\u001b[0m \u001b[32m━━━━━━━━━━━━━━━━━━━━\u001b[0m\u001b[37m\u001b[0m \u001b[1m0s\u001b[0m 1ms/step - loss: 2219.8511 - mae: 19.7306 - val_loss: 2146.8691 - val_mae: 21.8734\n",
      "Epoch 46/300\n",
      "\u001b[1m219/219\u001b[0m \u001b[32m━━━━━━━━━━━━━━━━━━━━\u001b[0m\u001b[37m\u001b[0m \u001b[1m0s\u001b[0m 1ms/step - loss: 2593.9260 - mae: 22.4580 - val_loss: 3293.8547 - val_mae: 26.6255\n",
      "Epoch 47/300\n",
      "\u001b[1m219/219\u001b[0m \u001b[32m━━━━━━━━━━━━━━━━━━━━\u001b[0m\u001b[37m\u001b[0m \u001b[1m0s\u001b[0m 1000us/step - loss: 2596.5193 - mae: 21.7869 - val_loss: 2074.0925 - val_mae: 21.4921\n",
      "Epoch 48/300\n",
      "\u001b[1m219/219\u001b[0m \u001b[32m━━━━━━━━━━━━━━━━━━━━\u001b[0m\u001b[37m\u001b[0m \u001b[1m0s\u001b[0m 1ms/step - loss: 2233.2778 - mae: 19.6818 - val_loss: 2162.7251 - val_mae: 22.3277\n",
      "Epoch 49/300\n",
      "\u001b[1m219/219\u001b[0m \u001b[32m━━━━━━━━━━━━━━━━━━━━\u001b[0m\u001b[37m\u001b[0m \u001b[1m0s\u001b[0m 1ms/step - loss: 2330.3296 - mae: 19.8748 - val_loss: 2430.0164 - val_mae: 23.3575\n",
      "Epoch 50/300\n",
      "\u001b[1m219/219\u001b[0m \u001b[32m━━━━━━━━━━━━━━━━━━━━\u001b[0m\u001b[37m\u001b[0m \u001b[1m0s\u001b[0m 1ms/step - loss: 2687.1848 - mae: 21.7047 - val_loss: 2580.9500 - val_mae: 23.3142\n",
      "Epoch 51/300\n",
      "\u001b[1m219/219\u001b[0m \u001b[32m━━━━━━━━━━━━━━━━━━━━\u001b[0m\u001b[37m\u001b[0m \u001b[1m0s\u001b[0m 1ms/step - loss: 2266.4060 - mae: 19.6343 - val_loss: 2409.5383 - val_mae: 23.1073\n",
      "Epoch 52/300\n",
      "\u001b[1m219/219\u001b[0m \u001b[32m━━━━━━━━━━━━━━━━━━━━\u001b[0m\u001b[37m\u001b[0m \u001b[1m0s\u001b[0m 1ms/step - loss: 2522.7634 - mae: 21.3610 - val_loss: 2373.5320 - val_mae: 23.5806\n",
      "Epoch 53/300\n",
      "\u001b[1m219/219\u001b[0m \u001b[32m━━━━━━━━━━━━━━━━━━━━\u001b[0m\u001b[37m\u001b[0m \u001b[1m0s\u001b[0m 977us/step - loss: 2098.0557 - mae: 19.3550 - val_loss: 2107.8123 - val_mae: 21.4925\n",
      "Epoch 54/300\n",
      "\u001b[1m219/219\u001b[0m \u001b[32m━━━━━━━━━━━━━━━━━━━━\u001b[0m\u001b[37m\u001b[0m \u001b[1m0s\u001b[0m 1ms/step - loss: 2088.2856 - mae: 19.8559 - val_loss: 2295.8872 - val_mae: 21.8841\n",
      "Epoch 55/300\n",
      "\u001b[1m219/219\u001b[0m \u001b[32m━━━━━━━━━━━━━━━━━━━━\u001b[0m\u001b[37m\u001b[0m \u001b[1m0s\u001b[0m 1ms/step - loss: 2435.3557 - mae: 20.6548 - val_loss: 2360.0623 - val_mae: 21.9061\n",
      "Epoch 56/300\n",
      "\u001b[1m219/219\u001b[0m \u001b[32m━━━━━━━━━━━━━━━━━━━━\u001b[0m\u001b[37m\u001b[0m \u001b[1m0s\u001b[0m 1ms/step - loss: 2307.8044 - mae: 20.1922 - val_loss: 2060.1113 - val_mae: 20.9846\n",
      "Epoch 57/300\n",
      "\u001b[1m219/219\u001b[0m \u001b[32m━━━━━━━━━━━━━━━━━━━━\u001b[0m\u001b[37m\u001b[0m \u001b[1m0s\u001b[0m 1ms/step - loss: 2237.3945 - mae: 19.6579 - val_loss: 2680.8687 - val_mae: 24.0527\n",
      "Epoch 58/300\n",
      "\u001b[1m219/219\u001b[0m \u001b[32m━━━━━━━━━━━━━━━━━━━━\u001b[0m\u001b[37m\u001b[0m \u001b[1m0s\u001b[0m 1ms/step - loss: 1772.8866 - mae: 18.0631 - val_loss: 2793.7676 - val_mae: 23.8443\n",
      "Epoch 59/300\n",
      "\u001b[1m219/219\u001b[0m \u001b[32m━━━━━━━━━━━━━━━━━━━━\u001b[0m\u001b[37m\u001b[0m \u001b[1m0s\u001b[0m 1ms/step - loss: 2113.3201 - mae: 19.3219 - val_loss: 1950.9298 - val_mae: 21.4631\n",
      "Epoch 60/300\n",
      "\u001b[1m219/219\u001b[0m \u001b[32m━━━━━━━━━━━━━━━━━━━━\u001b[0m\u001b[37m\u001b[0m \u001b[1m0s\u001b[0m 1ms/step - loss: 2044.5126 - mae: 18.9379 - val_loss: 2274.6663 - val_mae: 22.2007\n",
      "Epoch 61/300\n",
      "\u001b[1m219/219\u001b[0m \u001b[32m━━━━━━━━━━━━━━━━━━━━\u001b[0m\u001b[37m\u001b[0m \u001b[1m0s\u001b[0m 1ms/step - loss: 2356.6245 - mae: 19.5774 - val_loss: 2445.9050 - val_mae: 22.6628\n",
      "Epoch 62/300\n",
      "\u001b[1m219/219\u001b[0m \u001b[32m━━━━━━━━━━━━━━━━━━━━\u001b[0m\u001b[37m\u001b[0m \u001b[1m0s\u001b[0m 1ms/step - loss: 2508.6987 - mae: 20.0787 - val_loss: 2220.3967 - val_mae: 22.1703\n",
      "Epoch 63/300\n",
      "\u001b[1m219/219\u001b[0m \u001b[32m━━━━━━━━━━━━━━━━━━━━\u001b[0m\u001b[37m\u001b[0m \u001b[1m0s\u001b[0m 1ms/step - loss: 2084.1360 - mae: 18.9078 - val_loss: 2193.0420 - val_mae: 21.6859\n",
      "Epoch 64/300\n",
      "\u001b[1m219/219\u001b[0m \u001b[32m━━━━━━━━━━━━━━━━━━━━\u001b[0m\u001b[37m\u001b[0m \u001b[1m0s\u001b[0m 1ms/step - loss: 1775.1719 - mae: 18.2875 - val_loss: 1971.3717 - val_mae: 20.8650\n",
      "Epoch 65/300\n",
      "\u001b[1m219/219\u001b[0m \u001b[32m━━━━━━━━━━━━━━━━━━━━\u001b[0m\u001b[37m\u001b[0m \u001b[1m0s\u001b[0m 1ms/step - loss: 1590.4740 - mae: 17.2973 - val_loss: 2029.4250 - val_mae: 21.1841\n",
      "Epoch 66/300\n",
      "\u001b[1m219/219\u001b[0m \u001b[32m━━━━━━━━━━━━━━━━━━━━\u001b[0m\u001b[37m\u001b[0m \u001b[1m0s\u001b[0m 1ms/step - loss: 1782.6311 - mae: 17.8478 - val_loss: 2112.5569 - val_mae: 21.3465\n",
      "Epoch 67/300\n",
      "\u001b[1m219/219\u001b[0m \u001b[32m━━━━━━━━━━━━━━━━━━━━\u001b[0m\u001b[37m\u001b[0m \u001b[1m0s\u001b[0m 991us/step - loss: 1836.0219 - mae: 18.4092 - val_loss: 2852.4729 - val_mae: 24.7785\n",
      "Epoch 68/300\n",
      "\u001b[1m219/219\u001b[0m \u001b[32m━━━━━━━━━━━━━━━━━━━━\u001b[0m\u001b[37m\u001b[0m \u001b[1m0s\u001b[0m 1ms/step - loss: 2105.6711 - mae: 18.9748 - val_loss: 2118.8662 - val_mae: 21.2715\n",
      "Epoch 69/300\n",
      "\u001b[1m219/219\u001b[0m \u001b[32m━━━━━━━━━━━━━━━━━━━━\u001b[0m\u001b[37m\u001b[0m \u001b[1m0s\u001b[0m 1ms/step - loss: 2051.5581 - mae: 18.8658 - val_loss: 1879.8143 - val_mae: 19.8199\n",
      "Epoch 70/300\n",
      "\u001b[1m219/219\u001b[0m \u001b[32m━━━━━━━━━━━━━━━━━━━━\u001b[0m\u001b[37m\u001b[0m \u001b[1m0s\u001b[0m 1ms/step - loss: 1696.1857 - mae: 17.4392 - val_loss: 1907.3961 - val_mae: 20.6780\n",
      "Epoch 71/300\n",
      "\u001b[1m219/219\u001b[0m \u001b[32m━━━━━━━━━━━━━━━━━━━━\u001b[0m\u001b[37m\u001b[0m \u001b[1m0s\u001b[0m 1ms/step - loss: 1790.4535 - mae: 17.7737 - val_loss: 1960.5529 - val_mae: 20.4437\n",
      "Epoch 72/300\n",
      "\u001b[1m219/219\u001b[0m \u001b[32m━━━━━━━━━━━━━━━━━━━━\u001b[0m\u001b[37m\u001b[0m \u001b[1m0s\u001b[0m 1ms/step - loss: 1943.6401 - mae: 18.1187 - val_loss: 2860.0676 - val_mae: 23.2785\n",
      "Epoch 73/300\n",
      "\u001b[1m219/219\u001b[0m \u001b[32m━━━━━━━━━━━━━━━━━━━━\u001b[0m\u001b[37m\u001b[0m \u001b[1m0s\u001b[0m 995us/step - loss: 2031.3201 - mae: 19.1074 - val_loss: 2084.2090 - val_mae: 20.7099\n",
      "Epoch 74/300\n",
      "\u001b[1m219/219\u001b[0m \u001b[32m━━━━━━━━━━━━━━━━━━━━\u001b[0m\u001b[37m\u001b[0m \u001b[1m0s\u001b[0m 1ms/step - loss: 2013.2782 - mae: 18.2068 - val_loss: 2187.1653 - val_mae: 21.6881\n",
      "Epoch 75/300\n",
      "\u001b[1m219/219\u001b[0m \u001b[32m━━━━━━━━━━━━━━━━━━━━\u001b[0m\u001b[37m\u001b[0m \u001b[1m0s\u001b[0m 1ms/step - loss: 1992.0378 - mae: 18.4432 - val_loss: 2109.3777 - val_mae: 20.8612\n",
      "Epoch 76/300\n",
      "\u001b[1m219/219\u001b[0m \u001b[32m━━━━━━━━━━━━━━━━━━━━\u001b[0m\u001b[37m\u001b[0m \u001b[1m0s\u001b[0m 1ms/step - loss: 2034.0580 - mae: 18.1789 - val_loss: 2028.0576 - val_mae: 21.0591\n",
      "Epoch 77/300\n",
      "\u001b[1m219/219\u001b[0m \u001b[32m━━━━━━━━━━━━━━━━━━━━\u001b[0m\u001b[37m\u001b[0m \u001b[1m0s\u001b[0m 1ms/step - loss: 1856.6782 - mae: 18.1029 - val_loss: 1856.0712 - val_mae: 20.1526\n",
      "Epoch 78/300\n",
      "\u001b[1m219/219\u001b[0m \u001b[32m━━━━━━━━━━━━━━━━━━━━\u001b[0m\u001b[37m\u001b[0m \u001b[1m0s\u001b[0m 1ms/step - loss: 1859.5333 - mae: 18.2142 - val_loss: 2090.1733 - val_mae: 20.8803\n",
      "Epoch 79/300\n",
      "\u001b[1m219/219\u001b[0m \u001b[32m━━━━━━━━━━━━━━━━━━━━\u001b[0m\u001b[37m\u001b[0m \u001b[1m0s\u001b[0m 1ms/step - loss: 1884.7377 - mae: 18.2923 - val_loss: 1770.6224 - val_mae: 19.6948\n",
      "Epoch 80/300\n",
      "\u001b[1m219/219\u001b[0m \u001b[32m━━━━━━━━━━━━━━━━━━━━\u001b[0m\u001b[37m\u001b[0m \u001b[1m0s\u001b[0m 1ms/step - loss: 1784.8076 - mae: 17.7814 - val_loss: 2074.0457 - val_mae: 21.0463\n",
      "Epoch 81/300\n",
      "\u001b[1m219/219\u001b[0m \u001b[32m━━━━━━━━━━━━━━━━━━━━\u001b[0m\u001b[37m\u001b[0m \u001b[1m0s\u001b[0m 1ms/step - loss: 1670.8488 - mae: 17.2234 - val_loss: 1953.8905 - val_mae: 20.3897\n",
      "Epoch 82/300\n",
      "\u001b[1m219/219\u001b[0m \u001b[32m━━━━━━━━━━━━━━━━━━━━\u001b[0m\u001b[37m\u001b[0m \u001b[1m0s\u001b[0m 1ms/step - loss: 1758.4362 - mae: 17.4968 - val_loss: 1918.3938 - val_mae: 21.0445\n",
      "Epoch 83/300\n",
      "\u001b[1m219/219\u001b[0m \u001b[32m━━━━━━━━━━━━━━━━━━━━\u001b[0m\u001b[37m\u001b[0m \u001b[1m0s\u001b[0m 1ms/step - loss: 1923.8514 - mae: 18.3361 - val_loss: 2521.5200 - val_mae: 22.5033\n",
      "Epoch 84/300\n",
      "\u001b[1m219/219\u001b[0m \u001b[32m━━━━━━━━━━━━━━━━━━━━\u001b[0m\u001b[37m\u001b[0m \u001b[1m0s\u001b[0m 1ms/step - loss: 1932.2245 - mae: 18.8355 - val_loss: 1842.8051 - val_mae: 19.5849\n",
      "Epoch 85/300\n",
      "\u001b[1m219/219\u001b[0m \u001b[32m━━━━━━━━━━━━━━━━━━━━\u001b[0m\u001b[37m\u001b[0m \u001b[1m0s\u001b[0m 1ms/step - loss: 2414.5625 - mae: 19.5696 - val_loss: 1942.1648 - val_mae: 19.8030\n",
      "Epoch 86/300\n",
      "\u001b[1m219/219\u001b[0m \u001b[32m━━━━━━━━━━━━━━━━━━━━\u001b[0m\u001b[37m\u001b[0m \u001b[1m0s\u001b[0m 1ms/step - loss: 1847.3574 - mae: 16.8066 - val_loss: 1820.5961 - val_mae: 19.5206\n",
      "Epoch 87/300\n",
      "\u001b[1m219/219\u001b[0m \u001b[32m━━━━━━━━━━━━━━━━━━━━\u001b[0m\u001b[37m\u001b[0m \u001b[1m0s\u001b[0m 1ms/step - loss: 1694.1754 - mae: 17.1370 - val_loss: 1809.5082 - val_mae: 19.4898\n",
      "Epoch 88/300\n",
      "\u001b[1m219/219\u001b[0m \u001b[32m━━━━━━━━━━━━━━━━━━━━\u001b[0m\u001b[37m\u001b[0m \u001b[1m0s\u001b[0m 1ms/step - loss: 1726.8243 - mae: 16.8672 - val_loss: 1984.9817 - val_mae: 20.3940\n",
      "Epoch 89/300\n",
      "\u001b[1m219/219\u001b[0m \u001b[32m━━━━━━━━━━━━━━━━━━━━\u001b[0m\u001b[37m\u001b[0m \u001b[1m0s\u001b[0m 1ms/step - loss: 1610.6589 - mae: 16.5186 - val_loss: 1707.1793 - val_mae: 19.7090\n",
      "Epoch 90/300\n",
      "\u001b[1m219/219\u001b[0m \u001b[32m━━━━━━━━━━━━━━━━━━━━\u001b[0m\u001b[37m\u001b[0m \u001b[1m0s\u001b[0m 1ms/step - loss: 2000.2742 - mae: 18.4848 - val_loss: 1998.0574 - val_mae: 20.1811\n",
      "Epoch 91/300\n",
      "\u001b[1m219/219\u001b[0m \u001b[32m━━━━━━━━━━━━━━━━━━━━\u001b[0m\u001b[37m\u001b[0m \u001b[1m0s\u001b[0m 1ms/step - loss: 2144.4065 - mae: 18.1129 - val_loss: 2141.5398 - val_mae: 20.7550\n",
      "Epoch 92/300\n",
      "\u001b[1m219/219\u001b[0m \u001b[32m━━━━━━━━━━━━━━━━━━━━\u001b[0m\u001b[37m\u001b[0m \u001b[1m0s\u001b[0m 1ms/step - loss: 1786.7910 - mae: 16.9869 - val_loss: 1892.9137 - val_mae: 20.7963\n",
      "Epoch 93/300\n",
      "\u001b[1m219/219\u001b[0m \u001b[32m━━━━━━━━━━━━━━━━━━━━\u001b[0m\u001b[37m\u001b[0m \u001b[1m0s\u001b[0m 1ms/step - loss: 1731.2418 - mae: 16.8784 - val_loss: 2478.4172 - val_mae: 21.5486\n",
      "Epoch 94/300\n",
      "\u001b[1m219/219\u001b[0m \u001b[32m━━━━━━━━━━━━━━━━━━━━\u001b[0m\u001b[37m\u001b[0m \u001b[1m0s\u001b[0m 1ms/step - loss: 1827.9741 - mae: 17.3580 - val_loss: 1784.1481 - val_mae: 19.5871\n",
      "Epoch 95/300\n",
      "\u001b[1m219/219\u001b[0m \u001b[32m━━━━━━━━━━━━━━━━━━━━\u001b[0m\u001b[37m\u001b[0m \u001b[1m0s\u001b[0m 1ms/step - loss: 2134.5312 - mae: 18.7224 - val_loss: 2221.6584 - val_mae: 21.2137\n",
      "Epoch 96/300\n",
      "\u001b[1m219/219\u001b[0m \u001b[32m━━━━━━━━━━━━━━━━━━━━\u001b[0m\u001b[37m\u001b[0m \u001b[1m0s\u001b[0m 1ms/step - loss: 2080.3535 - mae: 18.1710 - val_loss: 1998.4381 - val_mae: 20.9963\n",
      "Epoch 97/300\n",
      "\u001b[1m219/219\u001b[0m \u001b[32m━━━━━━━━━━━━━━━━━━━━\u001b[0m\u001b[37m\u001b[0m \u001b[1m0s\u001b[0m 1ms/step - loss: 1941.0679 - mae: 17.4155 - val_loss: 2366.3147 - val_mae: 23.7311\n",
      "Epoch 98/300\n",
      "\u001b[1m219/219\u001b[0m \u001b[32m━━━━━━━━━━━━━━━━━━━━\u001b[0m\u001b[37m\u001b[0m \u001b[1m0s\u001b[0m 1ms/step - loss: 1688.8802 - mae: 17.2012 - val_loss: 1899.0679 - val_mae: 20.0442\n",
      "Epoch 99/300\n",
      "\u001b[1m219/219\u001b[0m \u001b[32m━━━━━━━━━━━━━━━━━━━━\u001b[0m\u001b[37m\u001b[0m \u001b[1m0s\u001b[0m 1ms/step - loss: 1367.4847 - mae: 15.1917 - val_loss: 2289.4954 - val_mae: 21.5323\n",
      "Epoch 100/300\n",
      "\u001b[1m219/219\u001b[0m \u001b[32m━━━━━━━━━━━━━━━━━━━━\u001b[0m\u001b[37m\u001b[0m \u001b[1m0s\u001b[0m 1ms/step - loss: 2191.8008 - mae: 18.4591 - val_loss: 1801.3632 - val_mae: 19.8328\n",
      "Epoch 101/300\n",
      "\u001b[1m219/219\u001b[0m \u001b[32m━━━━━━━━━━━━━━━━━━━━\u001b[0m\u001b[37m\u001b[0m \u001b[1m0s\u001b[0m 1ms/step - loss: 1642.4363 - mae: 15.8739 - val_loss: 1989.5588 - val_mae: 20.3102\n",
      "Epoch 102/300\n",
      "\u001b[1m219/219\u001b[0m \u001b[32m━━━━━━━━━━━━━━━━━━━━\u001b[0m\u001b[37m\u001b[0m \u001b[1m0s\u001b[0m 1ms/step - loss: 1468.0918 - mae: 15.8892 - val_loss: 1941.5135 - val_mae: 20.1635\n",
      "Epoch 103/300\n",
      "\u001b[1m219/219\u001b[0m \u001b[32m━━━━━━━━━━━━━━━━━━━━\u001b[0m\u001b[37m\u001b[0m \u001b[1m0s\u001b[0m 1ms/step - loss: 1882.1952 - mae: 17.7828 - val_loss: 2099.7844 - val_mae: 21.0532\n",
      "Epoch 104/300\n",
      "\u001b[1m219/219\u001b[0m \u001b[32m━━━━━━━━━━━━━━━━━━━━\u001b[0m\u001b[37m\u001b[0m \u001b[1m0s\u001b[0m 1ms/step - loss: 1542.1588 - mae: 16.1297 - val_loss: 2002.2845 - val_mae: 20.3216\n",
      "Epoch 105/300\n",
      "\u001b[1m219/219\u001b[0m \u001b[32m━━━━━━━━━━━━━━━━━━━━\u001b[0m\u001b[37m\u001b[0m \u001b[1m0s\u001b[0m 1ms/step - loss: 1525.8314 - mae: 16.1662 - val_loss: 1976.0966 - val_mae: 20.4564\n",
      "Epoch 106/300\n",
      "\u001b[1m219/219\u001b[0m \u001b[32m━━━━━━━━━━━━━━━━━━━━\u001b[0m\u001b[37m\u001b[0m \u001b[1m0s\u001b[0m 1ms/step - loss: 1759.4132 - mae: 16.3410 - val_loss: 2147.4951 - val_mae: 20.9449\n",
      "Epoch 107/300\n",
      "\u001b[1m219/219\u001b[0m \u001b[32m━━━━━━━━━━━━━━━━━━━━\u001b[0m\u001b[37m\u001b[0m \u001b[1m0s\u001b[0m 1ms/step - loss: 1357.8926 - mae: 15.3371 - val_loss: 2137.6821 - val_mae: 21.1879\n",
      "Epoch 108/300\n",
      "\u001b[1m219/219\u001b[0m \u001b[32m━━━━━━━━━━━━━━━━━━━━\u001b[0m\u001b[37m\u001b[0m \u001b[1m0s\u001b[0m 1ms/step - loss: 1625.0875 - mae: 16.3298 - val_loss: 2079.3582 - val_mae: 21.1789\n",
      "Epoch 109/300\n",
      "\u001b[1m219/219\u001b[0m \u001b[32m━━━━━━━━━━━━━━━━━━━━\u001b[0m\u001b[37m\u001b[0m \u001b[1m0s\u001b[0m 1ms/step - loss: 1411.5574 - mae: 15.5503 - val_loss: 2284.2734 - val_mae: 21.4721\n",
      "Epoch 110/300\n",
      "\u001b[1m219/219\u001b[0m \u001b[32m━━━━━━━━━━━━━━━━━━━━\u001b[0m\u001b[37m\u001b[0m \u001b[1m0s\u001b[0m 1ms/step - loss: 1542.9556 - mae: 15.7010 - val_loss: 2136.3953 - val_mae: 21.2051\n",
      "Epoch 111/300\n",
      "\u001b[1m219/219\u001b[0m \u001b[32m━━━━━━━━━━━━━━━━━━━━\u001b[0m\u001b[37m\u001b[0m \u001b[1m0s\u001b[0m 1ms/step - loss: 1765.4523 - mae: 16.0724 - val_loss: 1856.0940 - val_mae: 19.9581\n",
      "Epoch 112/300\n",
      "\u001b[1m219/219\u001b[0m \u001b[32m━━━━━━━━━━━━━━━━━━━━\u001b[0m\u001b[37m\u001b[0m \u001b[1m0s\u001b[0m 1ms/step - loss: 1448.9055 - mae: 15.4196 - val_loss: 1801.4449 - val_mae: 19.7866\n",
      "Epoch 113/300\n",
      "\u001b[1m219/219\u001b[0m \u001b[32m━━━━━━━━━━━━━━━━━━━━\u001b[0m\u001b[37m\u001b[0m \u001b[1m0s\u001b[0m 1ms/step - loss: 1634.1808 - mae: 16.1254 - val_loss: 2289.4158 - val_mae: 21.1357\n",
      "Epoch 114/300\n",
      "\u001b[1m219/219\u001b[0m \u001b[32m━━━━━━━━━━━━━━━━━━━━\u001b[0m\u001b[37m\u001b[0m \u001b[1m0s\u001b[0m 1ms/step - loss: 1745.4993 - mae: 16.0394 - val_loss: 1936.9984 - val_mae: 20.3162\n",
      "Epoch 115/300\n",
      "\u001b[1m219/219\u001b[0m \u001b[32m━━━━━━━━━━━━━━━━━━━━\u001b[0m\u001b[37m\u001b[0m \u001b[1m0s\u001b[0m 1ms/step - loss: 1697.6454 - mae: 16.1582 - val_loss: 1874.2261 - val_mae: 19.3301\n",
      "Epoch 116/300\n",
      "\u001b[1m219/219\u001b[0m \u001b[32m━━━━━━━━━━━━━━━━━━━━\u001b[0m\u001b[37m\u001b[0m \u001b[1m0s\u001b[0m 1ms/step - loss: 1419.3995 - mae: 15.6160 - val_loss: 2051.8005 - val_mae: 20.5868\n",
      "Epoch 117/300\n",
      "\u001b[1m219/219\u001b[0m \u001b[32m━━━━━━━━━━━━━━━━━━━━\u001b[0m\u001b[37m\u001b[0m \u001b[1m0s\u001b[0m 1ms/step - loss: 1504.6414 - mae: 15.3463 - val_loss: 2192.6001 - val_mae: 20.4114\n",
      "Epoch 118/300\n",
      "\u001b[1m219/219\u001b[0m \u001b[32m━━━━━━━━━━━━━━━━━━━━\u001b[0m\u001b[37m\u001b[0m \u001b[1m0s\u001b[0m 1ms/step - loss: 1481.3351 - mae: 16.3712 - val_loss: 2113.1399 - val_mae: 19.8046\n",
      "Epoch 119/300\n",
      "\u001b[1m219/219\u001b[0m \u001b[32m━━━━━━━━━━━━━━━━━━━━\u001b[0m\u001b[37m\u001b[0m \u001b[1m0s\u001b[0m 1ms/step - loss: 1378.9542 - mae: 15.3994 - val_loss: 1742.9789 - val_mae: 18.8486\n",
      "Epoch 120/300\n",
      "\u001b[1m219/219\u001b[0m \u001b[32m━━━━━━━━━━━━━━━━━━━━\u001b[0m\u001b[37m\u001b[0m \u001b[1m0s\u001b[0m 1ms/step - loss: 1350.9729 - mae: 15.2471 - val_loss: 2409.8813 - val_mae: 22.4786\n",
      "Epoch 121/300\n",
      "\u001b[1m219/219\u001b[0m \u001b[32m━━━━━━━━━━━━━━━━━━━━\u001b[0m\u001b[37m\u001b[0m \u001b[1m0s\u001b[0m 1ms/step - loss: 1556.4111 - mae: 15.4461 - val_loss: 1945.5907 - val_mae: 20.0688\n",
      "Epoch 122/300\n",
      "\u001b[1m219/219\u001b[0m \u001b[32m━━━━━━━━━━━━━━━━━━━━\u001b[0m\u001b[37m\u001b[0m \u001b[1m0s\u001b[0m 1ms/step - loss: 1574.6377 - mae: 15.4038 - val_loss: 1854.3815 - val_mae: 19.5787\n",
      "Epoch 123/300\n",
      "\u001b[1m219/219\u001b[0m \u001b[32m━━━━━━━━━━━━━━━━━━━━\u001b[0m\u001b[37m\u001b[0m \u001b[1m0s\u001b[0m 1ms/step - loss: 1435.0546 - mae: 14.9199 - val_loss: 1887.8582 - val_mae: 20.0561\n",
      "Epoch 124/300\n",
      "\u001b[1m219/219\u001b[0m \u001b[32m━━━━━━━━━━━━━━━━━━━━\u001b[0m\u001b[37m\u001b[0m \u001b[1m0s\u001b[0m 1ms/step - loss: 1638.6450 - mae: 15.7568 - val_loss: 1877.9500 - val_mae: 19.0443\n",
      "Epoch 125/300\n",
      "\u001b[1m219/219\u001b[0m \u001b[32m━━━━━━━━━━━━━━━━━━━━\u001b[0m\u001b[37m\u001b[0m \u001b[1m0s\u001b[0m 1ms/step - loss: 1107.2844 - mae: 13.7530 - val_loss: 2032.9723 - val_mae: 20.2253\n",
      "Epoch 126/300\n",
      "\u001b[1m219/219\u001b[0m \u001b[32m━━━━━━━━━━━━━━━━━━━━\u001b[0m\u001b[37m\u001b[0m \u001b[1m0s\u001b[0m 1ms/step - loss: 1628.4509 - mae: 15.3595 - val_loss: 1970.5006 - val_mae: 18.9160\n",
      "Epoch 127/300\n",
      "\u001b[1m219/219\u001b[0m \u001b[32m━━━━━━━━━━━━━━━━━━━━\u001b[0m\u001b[37m\u001b[0m \u001b[1m0s\u001b[0m 1ms/step - loss: 1413.2150 - mae: 14.6215 - val_loss: 2027.7845 - val_mae: 19.8165\n",
      "Epoch 128/300\n",
      "\u001b[1m219/219\u001b[0m \u001b[32m━━━━━━━━━━━━━━━━━━━━\u001b[0m\u001b[37m\u001b[0m \u001b[1m0s\u001b[0m 1ms/step - loss: 1630.3895 - mae: 15.9591 - val_loss: 1877.6350 - val_mae: 20.0181\n",
      "Epoch 129/300\n",
      "\u001b[1m219/219\u001b[0m \u001b[32m━━━━━━━━━━━━━━━━━━━━\u001b[0m\u001b[37m\u001b[0m \u001b[1m0s\u001b[0m 1ms/step - loss: 1282.5253 - mae: 14.5038 - val_loss: 2056.0159 - val_mae: 20.4631\n",
      "Epoch 130/300\n",
      "\u001b[1m219/219\u001b[0m \u001b[32m━━━━━━━━━━━━━━━━━━━━\u001b[0m\u001b[37m\u001b[0m \u001b[1m0s\u001b[0m 1ms/step - loss: 1421.5577 - mae: 15.1518 - val_loss: 1785.4642 - val_mae: 18.7360\n",
      "Epoch 131/300\n",
      "\u001b[1m219/219\u001b[0m \u001b[32m━━━━━━━━━━━━━━━━━━━━\u001b[0m\u001b[37m\u001b[0m \u001b[1m0s\u001b[0m 1ms/step - loss: 1502.7052 - mae: 14.8826 - val_loss: 2007.9601 - val_mae: 19.5931\n",
      "Epoch 132/300\n",
      "\u001b[1m219/219\u001b[0m \u001b[32m━━━━━━━━━━━━━━━━━━━━\u001b[0m\u001b[37m\u001b[0m \u001b[1m0s\u001b[0m 1ms/step - loss: 1646.3545 - mae: 16.1457 - val_loss: 2215.0579 - val_mae: 21.4933\n",
      "Epoch 133/300\n",
      "\u001b[1m219/219\u001b[0m \u001b[32m━━━━━━━━━━━━━━━━━━━━\u001b[0m\u001b[37m\u001b[0m \u001b[1m0s\u001b[0m 1ms/step - loss: 1731.2488 - mae: 16.3734 - val_loss: 1969.9214 - val_mae: 19.6146\n",
      "Epoch 134/300\n",
      "\u001b[1m219/219\u001b[0m \u001b[32m━━━━━━━━━━━━━━━━━━━━\u001b[0m\u001b[37m\u001b[0m \u001b[1m0s\u001b[0m 1ms/step - loss: 1358.7904 - mae: 14.4547 - val_loss: 2253.8738 - val_mae: 20.8386\n",
      "Epoch 135/300\n",
      "\u001b[1m219/219\u001b[0m \u001b[32m━━━━━━━━━━━━━━━━━━━━\u001b[0m\u001b[37m\u001b[0m \u001b[1m0s\u001b[0m 1ms/step - loss: 1204.3102 - mae: 14.2000 - val_loss: 1948.8799 - val_mae: 20.1580\n",
      "Epoch 136/300\n",
      "\u001b[1m219/219\u001b[0m \u001b[32m━━━━━━━━━━━━━━━━━━━━\u001b[0m\u001b[37m\u001b[0m \u001b[1m0s\u001b[0m 1ms/step - loss: 1450.6818 - mae: 16.1521 - val_loss: 2036.9663 - val_mae: 20.0840\n",
      "Epoch 137/300\n",
      "\u001b[1m219/219\u001b[0m \u001b[32m━━━━━━━━━━━━━━━━━━━━\u001b[0m\u001b[37m\u001b[0m \u001b[1m0s\u001b[0m 1ms/step - loss: 1376.9233 - mae: 14.6086 - val_loss: 2274.6367 - val_mae: 21.6948\n",
      "Epoch 138/300\n",
      "\u001b[1m219/219\u001b[0m \u001b[32m━━━━━━━━━━━━━━━━━━━━\u001b[0m\u001b[37m\u001b[0m \u001b[1m0s\u001b[0m 1ms/step - loss: 1693.8311 - mae: 15.5501 - val_loss: 1882.9722 - val_mae: 19.4889\n",
      "Epoch 139/300\n",
      "\u001b[1m219/219\u001b[0m \u001b[32m━━━━━━━━━━━━━━━━━━━━\u001b[0m\u001b[37m\u001b[0m \u001b[1m0s\u001b[0m 1ms/step - loss: 1358.4836 - mae: 14.7801 - val_loss: 2025.2495 - val_mae: 20.0829\n",
      "Epoch 140/300\n",
      "\u001b[1m219/219\u001b[0m \u001b[32m━━━━━━━━━━━━━━━━━━━━\u001b[0m\u001b[37m\u001b[0m \u001b[1m0s\u001b[0m 995us/step - loss: 1288.1351 - mae: 14.2656 - val_loss: 2008.2650 - val_mae: 19.7130\n",
      "Epoch 141/300\n",
      "\u001b[1m219/219\u001b[0m \u001b[32m━━━━━━━━━━━━━━━━━━━━\u001b[0m\u001b[37m\u001b[0m \u001b[1m0s\u001b[0m 1ms/step - loss: 1444.9500 - mae: 14.7351 - val_loss: 2262.8521 - val_mae: 22.2321\n",
      "Epoch 142/300\n",
      "\u001b[1m219/219\u001b[0m \u001b[32m━━━━━━━━━━━━━━━━━━━━\u001b[0m\u001b[37m\u001b[0m \u001b[1m0s\u001b[0m 995us/step - loss: 1704.9182 - mae: 16.7736 - val_loss: 1786.9585 - val_mae: 19.3258\n",
      "Epoch 143/300\n",
      "\u001b[1m219/219\u001b[0m \u001b[32m━━━━━━━━━━━━━━━━━━━━\u001b[0m\u001b[37m\u001b[0m \u001b[1m0s\u001b[0m 1ms/step - loss: 1366.1833 - mae: 14.1610 - val_loss: 1775.9198 - val_mae: 19.4085\n",
      "Epoch 144/300\n",
      "\u001b[1m219/219\u001b[0m \u001b[32m━━━━━━━━━━━━━━━━━━━━\u001b[0m\u001b[37m\u001b[0m \u001b[1m0s\u001b[0m 1ms/step - loss: 1433.8851 - mae: 14.3923 - val_loss: 1866.7908 - val_mae: 19.0261\n",
      "Epoch 145/300\n",
      "\u001b[1m219/219\u001b[0m \u001b[32m━━━━━━━━━━━━━━━━━━━━\u001b[0m\u001b[37m\u001b[0m \u001b[1m0s\u001b[0m 1ms/step - loss: 1401.2853 - mae: 14.8947 - val_loss: 1853.7201 - val_mae: 18.4976\n",
      "Epoch 146/300\n",
      "\u001b[1m219/219\u001b[0m \u001b[32m━━━━━━━━━━━━━━━━━━━━\u001b[0m\u001b[37m\u001b[0m \u001b[1m0s\u001b[0m 1ms/step - loss: 1039.5498 - mae: 13.5164 - val_loss: 1953.3254 - val_mae: 19.3040\n",
      "Epoch 147/300\n",
      "\u001b[1m219/219\u001b[0m \u001b[32m━━━━━━━━━━━━━━━━━━━━\u001b[0m\u001b[37m\u001b[0m \u001b[1m0s\u001b[0m 1ms/step - loss: 1272.2734 - mae: 13.6605 - val_loss: 1899.8759 - val_mae: 19.6133\n",
      "Epoch 148/300\n",
      "\u001b[1m219/219\u001b[0m \u001b[32m━━━━━━━━━━━━━━━━━━━━\u001b[0m\u001b[37m\u001b[0m \u001b[1m0s\u001b[0m 1ms/step - loss: 1398.9015 - mae: 14.2197 - val_loss: 2055.6621 - val_mae: 19.7342\n",
      "Epoch 149/300\n",
      "\u001b[1m219/219\u001b[0m \u001b[32m━━━━━━━━━━━━━━━━━━━━\u001b[0m\u001b[37m\u001b[0m \u001b[1m0s\u001b[0m 1ms/step - loss: 1443.8204 - mae: 14.0752 - val_loss: 1910.6316 - val_mae: 19.3524\n",
      "Epoch 150/300\n",
      "\u001b[1m219/219\u001b[0m \u001b[32m━━━━━━━━━━━━━━━━━━━━\u001b[0m\u001b[37m\u001b[0m \u001b[1m0s\u001b[0m 1000us/step - loss: 1272.8953 - mae: 14.0823 - val_loss: 1616.5061 - val_mae: 18.3050\n",
      "Epoch 151/300\n",
      "\u001b[1m219/219\u001b[0m \u001b[32m━━━━━━━━━━━━━━━━━━━━\u001b[0m\u001b[37m\u001b[0m \u001b[1m0s\u001b[0m 1ms/step - loss: 1235.6276 - mae: 14.3768 - val_loss: 1777.9908 - val_mae: 18.8721\n",
      "Epoch 152/300\n",
      "\u001b[1m219/219\u001b[0m \u001b[32m━━━━━━━━━━━━━━━━━━━━\u001b[0m\u001b[37m\u001b[0m \u001b[1m0s\u001b[0m 1ms/step - loss: 1427.6479 - mae: 14.7199 - val_loss: 2482.9402 - val_mae: 21.6204\n",
      "Epoch 153/300\n",
      "\u001b[1m219/219\u001b[0m \u001b[32m━━━━━━━━━━━━━━━━━━━━\u001b[0m\u001b[37m\u001b[0m \u001b[1m0s\u001b[0m 1ms/step - loss: 1305.1544 - mae: 14.5363 - val_loss: 1932.8386 - val_mae: 19.2072\n",
      "Epoch 154/300\n",
      "\u001b[1m219/219\u001b[0m \u001b[32m━━━━━━━━━━━━━━━━━━━━\u001b[0m\u001b[37m\u001b[0m \u001b[1m0s\u001b[0m 1ms/step - loss: 1347.8289 - mae: 14.2970 - val_loss: 2450.8125 - val_mae: 22.8388\n",
      "Epoch 155/300\n",
      "\u001b[1m219/219\u001b[0m \u001b[32m━━━━━━━━━━━━━━━━━━━━\u001b[0m\u001b[37m\u001b[0m \u001b[1m0s\u001b[0m 1ms/step - loss: 1248.7090 - mae: 13.9200 - val_loss: 2406.6099 - val_mae: 21.2508\n",
      "Epoch 156/300\n",
      "\u001b[1m219/219\u001b[0m \u001b[32m━━━━━━━━━━━━━━━━━━━━\u001b[0m\u001b[37m\u001b[0m \u001b[1m0s\u001b[0m 1ms/step - loss: 1671.6797 - mae: 15.6266 - val_loss: 1820.3270 - val_mae: 19.0522\n",
      "Epoch 157/300\n",
      "\u001b[1m219/219\u001b[0m \u001b[32m━━━━━━━━━━━━━━━━━━━━\u001b[0m\u001b[37m\u001b[0m \u001b[1m0s\u001b[0m 1ms/step - loss: 1208.1841 - mae: 13.7933 - val_loss: 1998.9314 - val_mae: 18.9093\n",
      "Epoch 158/300\n",
      "\u001b[1m219/219\u001b[0m \u001b[32m━━━━━━━━━━━━━━━━━━━━\u001b[0m\u001b[37m\u001b[0m \u001b[1m0s\u001b[0m 1ms/step - loss: 1395.7570 - mae: 14.5983 - val_loss: 2019.8267 - val_mae: 20.2292\n",
      "Epoch 159/300\n",
      "\u001b[1m219/219\u001b[0m \u001b[32m━━━━━━━━━━━━━━━━━━━━\u001b[0m\u001b[37m\u001b[0m \u001b[1m0s\u001b[0m 1ms/step - loss: 1482.4229 - mae: 14.7262 - val_loss: 1922.3768 - val_mae: 19.1459\n",
      "Epoch 160/300\n",
      "\u001b[1m219/219\u001b[0m \u001b[32m━━━━━━━━━━━━━━━━━━━━\u001b[0m\u001b[37m\u001b[0m \u001b[1m0s\u001b[0m 1ms/step - loss: 1221.2386 - mae: 14.3740 - val_loss: 2017.0530 - val_mae: 19.5288\n",
      "Epoch 161/300\n",
      "\u001b[1m219/219\u001b[0m \u001b[32m━━━━━━━━━━━━━━━━━━━━\u001b[0m\u001b[37m\u001b[0m \u001b[1m0s\u001b[0m 1ms/step - loss: 1801.6035 - mae: 15.9372 - val_loss: 1994.8191 - val_mae: 19.4304\n",
      "Epoch 162/300\n",
      "\u001b[1m219/219\u001b[0m \u001b[32m━━━━━━━━━━━━━━━━━━━━\u001b[0m\u001b[37m\u001b[0m \u001b[1m0s\u001b[0m 1ms/step - loss: 1486.4385 - mae: 15.4601 - val_loss: 1866.2871 - val_mae: 19.2333\n",
      "Epoch 163/300\n",
      "\u001b[1m219/219\u001b[0m \u001b[32m━━━━━━━━━━━━━━━━━━━━\u001b[0m\u001b[37m\u001b[0m \u001b[1m0s\u001b[0m 1ms/step - loss: 1151.0062 - mae: 13.1052 - val_loss: 2125.3596 - val_mae: 20.6844\n",
      "Epoch 164/300\n",
      "\u001b[1m219/219\u001b[0m \u001b[32m━━━━━━━━━━━━━━━━━━━━\u001b[0m\u001b[37m\u001b[0m \u001b[1m0s\u001b[0m 1ms/step - loss: 1351.4962 - mae: 14.4264 - val_loss: 1870.3862 - val_mae: 18.8330\n",
      "Epoch 165/300\n",
      "\u001b[1m219/219\u001b[0m \u001b[32m━━━━━━━━━━━━━━━━━━━━\u001b[0m\u001b[37m\u001b[0m \u001b[1m0s\u001b[0m 1ms/step - loss: 1101.2289 - mae: 13.4815 - val_loss: 1766.5537 - val_mae: 18.4873\n",
      "Epoch 166/300\n",
      "\u001b[1m219/219\u001b[0m \u001b[32m━━━━━━━━━━━━━━━━━━━━\u001b[0m\u001b[37m\u001b[0m \u001b[1m0s\u001b[0m 1ms/step - loss: 1084.8196 - mae: 12.6817 - val_loss: 2194.5581 - val_mae: 20.0132\n",
      "Epoch 167/300\n",
      "\u001b[1m219/219\u001b[0m \u001b[32m━━━━━━━━━━━━━━━━━━━━\u001b[0m\u001b[37m\u001b[0m \u001b[1m0s\u001b[0m 1ms/step - loss: 1706.0972 - mae: 15.2293 - val_loss: 1796.6776 - val_mae: 19.4911\n",
      "Epoch 168/300\n",
      "\u001b[1m219/219\u001b[0m \u001b[32m━━━━━━━━━━━━━━━━━━━━\u001b[0m\u001b[37m\u001b[0m \u001b[1m0s\u001b[0m 1ms/step - loss: 1377.6541 - mae: 14.8633 - val_loss: 1824.3470 - val_mae: 19.5563\n",
      "Epoch 169/300\n",
      "\u001b[1m219/219\u001b[0m \u001b[32m━━━━━━━━━━━━━━━━━━━━\u001b[0m\u001b[37m\u001b[0m \u001b[1m0s\u001b[0m 1ms/step - loss: 1109.6617 - mae: 13.5139 - val_loss: 1925.9355 - val_mae: 19.2194\n",
      "Epoch 170/300\n",
      "\u001b[1m219/219\u001b[0m \u001b[32m━━━━━━━━━━━━━━━━━━━━\u001b[0m\u001b[37m\u001b[0m \u001b[1m0s\u001b[0m 1ms/step - loss: 1382.4661 - mae: 13.6977 - val_loss: 2226.4031 - val_mae: 20.1516\n",
      "Epoch 171/300\n",
      "\u001b[1m219/219\u001b[0m \u001b[32m━━━━━━━━━━━━━━━━━━━━\u001b[0m\u001b[37m\u001b[0m \u001b[1m0s\u001b[0m 1ms/step - loss: 1187.0386 - mae: 13.7571 - val_loss: 1741.0771 - val_mae: 18.2828\n",
      "Epoch 172/300\n",
      "\u001b[1m219/219\u001b[0m \u001b[32m━━━━━━━━━━━━━━━━━━━━\u001b[0m\u001b[37m\u001b[0m \u001b[1m0s\u001b[0m 1ms/step - loss: 1304.3475 - mae: 13.8539 - val_loss: 1926.7733 - val_mae: 20.2317\n",
      "Epoch 173/300\n",
      "\u001b[1m219/219\u001b[0m \u001b[32m━━━━━━━━━━━━━━━━━━━━\u001b[0m\u001b[37m\u001b[0m \u001b[1m0s\u001b[0m 1ms/step - loss: 1507.4799 - mae: 14.3677 - val_loss: 1870.5272 - val_mae: 19.4344\n",
      "Epoch 174/300\n",
      "\u001b[1m219/219\u001b[0m \u001b[32m━━━━━━━━━━━━━━━━━━━━\u001b[0m\u001b[37m\u001b[0m \u001b[1m0s\u001b[0m 1ms/step - loss: 1469.9247 - mae: 13.3012 - val_loss: 1805.5126 - val_mae: 19.0679\n",
      "Epoch 175/300\n",
      "\u001b[1m219/219\u001b[0m \u001b[32m━━━━━━━━━━━━━━━━━━━━\u001b[0m\u001b[37m\u001b[0m \u001b[1m0s\u001b[0m 1ms/step - loss: 869.8330 - mae: 12.1429 - val_loss: 1811.0753 - val_mae: 18.9269\n",
      "Epoch 176/300\n",
      "\u001b[1m219/219\u001b[0m \u001b[32m━━━━━━━━━━━━━━━━━━━━\u001b[0m\u001b[37m\u001b[0m \u001b[1m0s\u001b[0m 1ms/step - loss: 973.8905 - mae: 12.7512 - val_loss: 2056.0156 - val_mae: 19.7148\n",
      "Epoch 177/300\n",
      "\u001b[1m219/219\u001b[0m \u001b[32m━━━━━━━━━━━━━━━━━━━━\u001b[0m\u001b[37m\u001b[0m \u001b[1m0s\u001b[0m 1ms/step - loss: 1023.3424 - mae: 13.3726 - val_loss: 2263.4426 - val_mae: 21.1700\n",
      "Epoch 178/300\n",
      "\u001b[1m219/219\u001b[0m \u001b[32m━━━━━━━━━━━━━━━━━━━━\u001b[0m\u001b[37m\u001b[0m \u001b[1m0s\u001b[0m 1000us/step - loss: 1401.6550 - mae: 14.7394 - val_loss: 1760.3942 - val_mae: 18.5593\n",
      "Epoch 179/300\n",
      "\u001b[1m219/219\u001b[0m \u001b[32m━━━━━━━━━━━━━━━━━━━━\u001b[0m\u001b[37m\u001b[0m \u001b[1m0s\u001b[0m 1ms/step - loss: 1178.5946 - mae: 13.6722 - val_loss: 1852.6890 - val_mae: 18.8123\n",
      "Epoch 180/300\n",
      "\u001b[1m219/219\u001b[0m \u001b[32m━━━━━━━━━━━━━━━━━━━━\u001b[0m\u001b[37m\u001b[0m \u001b[1m0s\u001b[0m 1ms/step - loss: 1215.9178 - mae: 13.2286 - val_loss: 1994.3293 - val_mae: 20.1055\n",
      "Epoch 181/300\n",
      "\u001b[1m219/219\u001b[0m \u001b[32m━━━━━━━━━━━━━━━━━━━━\u001b[0m\u001b[37m\u001b[0m \u001b[1m0s\u001b[0m 1ms/step - loss: 1296.3867 - mae: 14.0759 - val_loss: 1821.6321 - val_mae: 18.3906\n",
      "Epoch 182/300\n",
      "\u001b[1m219/219\u001b[0m \u001b[32m━━━━━━━━━━━━━━━━━━━━\u001b[0m\u001b[37m\u001b[0m \u001b[1m0s\u001b[0m 1ms/step - loss: 1174.6968 - mae: 13.4581 - val_loss: 2210.1421 - val_mae: 21.3257\n",
      "Epoch 183/300\n",
      "\u001b[1m219/219\u001b[0m \u001b[32m━━━━━━━━━━━━━━━━━━━━\u001b[0m\u001b[37m\u001b[0m \u001b[1m0s\u001b[0m 1ms/step - loss: 1143.6318 - mae: 13.4685 - val_loss: 1918.4172 - val_mae: 19.0284\n",
      "Epoch 184/300\n",
      "\u001b[1m219/219\u001b[0m \u001b[32m━━━━━━━━━━━━━━━━━━━━\u001b[0m\u001b[37m\u001b[0m \u001b[1m0s\u001b[0m 1ms/step - loss: 1162.2690 - mae: 13.8924 - val_loss: 1799.4209 - val_mae: 19.7930\n",
      "Epoch 185/300\n",
      "\u001b[1m219/219\u001b[0m \u001b[32m━━━━━━━━━━━━━━━━━━━━\u001b[0m\u001b[37m\u001b[0m \u001b[1m0s\u001b[0m 1ms/step - loss: 1296.9991 - mae: 13.7645 - val_loss: 1986.6243 - val_mae: 19.8069\n",
      "Epoch 186/300\n",
      "\u001b[1m219/219\u001b[0m \u001b[32m━━━━━━━━━━━━━━━━━━━━\u001b[0m\u001b[37m\u001b[0m \u001b[1m0s\u001b[0m 986us/step - loss: 1417.3934 - mae: 14.1263 - val_loss: 1707.7036 - val_mae: 18.7869\n",
      "Epoch 187/300\n",
      "\u001b[1m219/219\u001b[0m \u001b[32m━━━━━━━━━━━━━━━━━━━━\u001b[0m\u001b[37m\u001b[0m \u001b[1m0s\u001b[0m 1ms/step - loss: 1172.1490 - mae: 13.3381 - val_loss: 1842.2483 - val_mae: 19.4310\n",
      "Epoch 188/300\n",
      "\u001b[1m219/219\u001b[0m \u001b[32m━━━━━━━━━━━━━━━━━━━━\u001b[0m\u001b[37m\u001b[0m \u001b[1m0s\u001b[0m 1ms/step - loss: 1189.7635 - mae: 12.9997 - val_loss: 1804.3148 - val_mae: 18.5166\n",
      "Epoch 189/300\n",
      "\u001b[1m219/219\u001b[0m \u001b[32m━━━━━━━━━━━━━━━━━━━━\u001b[0m\u001b[37m\u001b[0m \u001b[1m0s\u001b[0m 1ms/step - loss: 959.5087 - mae: 12.0314 - val_loss: 1801.6361 - val_mae: 18.5111\n",
      "Epoch 190/300\n",
      "\u001b[1m219/219\u001b[0m \u001b[32m━━━━━━━━━━━━━━━━━━━━\u001b[0m\u001b[37m\u001b[0m \u001b[1m0s\u001b[0m 1ms/step - loss: 1253.3048 - mae: 13.3069 - val_loss: 1924.9630 - val_mae: 19.3124\n",
      "Epoch 191/300\n",
      "\u001b[1m219/219\u001b[0m \u001b[32m━━━━━━━━━━━━━━━━━━━━\u001b[0m\u001b[37m\u001b[0m \u001b[1m0s\u001b[0m 1ms/step - loss: 1214.8275 - mae: 13.4215 - val_loss: 2407.8782 - val_mae: 20.9202\n",
      "Epoch 192/300\n",
      "\u001b[1m219/219\u001b[0m \u001b[32m━━━━━━━━━━━━━━━━━━━━\u001b[0m\u001b[37m\u001b[0m \u001b[1m0s\u001b[0m 995us/step - loss: 1358.4933 - mae: 14.2140 - val_loss: 1957.9755 - val_mae: 18.4894\n",
      "Epoch 193/300\n",
      "\u001b[1m219/219\u001b[0m \u001b[32m━━━━━━━━━━━━━━━━━━━━\u001b[0m\u001b[37m\u001b[0m \u001b[1m0s\u001b[0m 1ms/step - loss: 936.3403 - mae: 11.9391 - val_loss: 2316.9009 - val_mae: 22.1853\n",
      "Epoch 194/300\n",
      "\u001b[1m219/219\u001b[0m \u001b[32m━━━━━━━━━━━━━━━━━━━━\u001b[0m\u001b[37m\u001b[0m \u001b[1m0s\u001b[0m 1ms/step - loss: 1257.6749 - mae: 14.0457 - val_loss: 1811.4873 - val_mae: 19.4133\n",
      "Epoch 195/300\n",
      "\u001b[1m219/219\u001b[0m \u001b[32m━━━━━━━━━━━━━━━━━━━━\u001b[0m\u001b[37m\u001b[0m \u001b[1m0s\u001b[0m 1ms/step - loss: 1285.6545 - mae: 13.7723 - val_loss: 1760.0099 - val_mae: 19.0744\n",
      "Epoch 196/300\n",
      "\u001b[1m219/219\u001b[0m \u001b[32m━━━━━━━━━━━━━━━━━━━━\u001b[0m\u001b[37m\u001b[0m \u001b[1m0s\u001b[0m 1ms/step - loss: 924.1589 - mae: 12.0891 - val_loss: 1769.0518 - val_mae: 19.4518\n",
      "Epoch 197/300\n",
      "\u001b[1m219/219\u001b[0m \u001b[32m━━━━━━━━━━━━━━━━━━━━\u001b[0m\u001b[37m\u001b[0m \u001b[1m0s\u001b[0m 1ms/step - loss: 1400.2476 - mae: 14.9407 - val_loss: 1984.8770 - val_mae: 19.6452\n",
      "Epoch 198/300\n",
      "\u001b[1m219/219\u001b[0m \u001b[32m━━━━━━━━━━━━━━━━━━━━\u001b[0m\u001b[37m\u001b[0m \u001b[1m0s\u001b[0m 1ms/step - loss: 1272.8636 - mae: 13.8102 - val_loss: 1965.8948 - val_mae: 19.5092\n",
      "Epoch 199/300\n",
      "\u001b[1m219/219\u001b[0m \u001b[32m━━━━━━━━━━━━━━━━━━━━\u001b[0m\u001b[37m\u001b[0m \u001b[1m0s\u001b[0m 995us/step - loss: 1063.4921 - mae: 13.1738 - val_loss: 2205.9746 - val_mae: 21.6922\n",
      "Epoch 200/300\n",
      "\u001b[1m219/219\u001b[0m \u001b[32m━━━━━━━━━━━━━━━━━━━━\u001b[0m\u001b[37m\u001b[0m \u001b[1m0s\u001b[0m 1ms/step - loss: 997.6326 - mae: 12.6170 - val_loss: 1646.7080 - val_mae: 18.7498\n",
      "Epoch 201/300\n",
      "\u001b[1m219/219\u001b[0m \u001b[32m━━━━━━━━━━━━━━━━━━━━\u001b[0m\u001b[37m\u001b[0m \u001b[1m0s\u001b[0m 1ms/step - loss: 1190.5262 - mae: 13.1566 - val_loss: 2116.2856 - val_mae: 19.6409\n",
      "Epoch 202/300\n",
      "\u001b[1m219/219\u001b[0m \u001b[32m━━━━━━━━━━━━━━━━━━━━\u001b[0m\u001b[37m\u001b[0m \u001b[1m0s\u001b[0m 1ms/step - loss: 912.1345 - mae: 11.7848 - val_loss: 1822.8339 - val_mae: 18.5302\n",
      "Epoch 203/300\n",
      "\u001b[1m219/219\u001b[0m \u001b[32m━━━━━━━━━━━━━━━━━━━━\u001b[0m\u001b[37m\u001b[0m \u001b[1m0s\u001b[0m 1ms/step - loss: 888.7244 - mae: 11.9984 - val_loss: 1952.1741 - val_mae: 18.6333\n",
      "Epoch 204/300\n",
      "\u001b[1m219/219\u001b[0m \u001b[32m━━━━━━━━━━━━━━━━━━━━\u001b[0m\u001b[37m\u001b[0m \u001b[1m0s\u001b[0m 1ms/step - loss: 1365.7694 - mae: 13.8673 - val_loss: 1962.2495 - val_mae: 18.7648\n",
      "Epoch 205/300\n",
      "\u001b[1m219/219\u001b[0m \u001b[32m━━━━━━━━━━━━━━━━━━━━\u001b[0m\u001b[37m\u001b[0m \u001b[1m0s\u001b[0m 1ms/step - loss: 1355.8097 - mae: 13.7030 - val_loss: 2121.7371 - val_mae: 19.2480\n",
      "Epoch 206/300\n",
      "\u001b[1m219/219\u001b[0m \u001b[32m━━━━━━━━━━━━━━━━━━━━\u001b[0m\u001b[37m\u001b[0m \u001b[1m0s\u001b[0m 1ms/step - loss: 1288.7925 - mae: 13.4412 - val_loss: 1794.0032 - val_mae: 18.3393\n",
      "Epoch 207/300\n",
      "\u001b[1m219/219\u001b[0m \u001b[32m━━━━━━━━━━━━━━━━━━━━\u001b[0m\u001b[37m\u001b[0m \u001b[1m0s\u001b[0m 1ms/step - loss: 1314.3759 - mae: 13.0387 - val_loss: 2027.5712 - val_mae: 18.8175\n",
      "Epoch 208/300\n",
      "\u001b[1m219/219\u001b[0m \u001b[32m━━━━━━━━━━━━━━━━━━━━\u001b[0m\u001b[37m\u001b[0m \u001b[1m0s\u001b[0m 1ms/step - loss: 1243.6262 - mae: 13.3705 - val_loss: 1990.0256 - val_mae: 19.3962\n",
      "Epoch 209/300\n",
      "\u001b[1m219/219\u001b[0m \u001b[32m━━━━━━━━━━━━━━━━━━━━\u001b[0m\u001b[37m\u001b[0m \u001b[1m0s\u001b[0m 1ms/step - loss: 1018.1347 - mae: 12.2143 - val_loss: 1962.5449 - val_mae: 18.9948\n",
      "Epoch 210/300\n",
      "\u001b[1m219/219\u001b[0m \u001b[32m━━━━━━━━━━━━━━━━━━━━\u001b[0m\u001b[37m\u001b[0m \u001b[1m0s\u001b[0m 1ms/step - loss: 986.9379 - mae: 13.1344 - val_loss: 1942.1472 - val_mae: 19.5986\n",
      "Epoch 211/300\n",
      "\u001b[1m219/219\u001b[0m \u001b[32m━━━━━━━━━━━━━━━━━━━━\u001b[0m\u001b[37m\u001b[0m \u001b[1m0s\u001b[0m 1ms/step - loss: 1195.7903 - mae: 13.3033 - val_loss: 2351.1230 - val_mae: 20.1909\n",
      "Epoch 212/300\n",
      "\u001b[1m219/219\u001b[0m \u001b[32m━━━━━━━━━━━━━━━━━━━━\u001b[0m\u001b[37m\u001b[0m \u001b[1m0s\u001b[0m 1ms/step - loss: 1141.7948 - mae: 12.7322 - val_loss: 1773.9039 - val_mae: 18.5160\n",
      "Epoch 213/300\n",
      "\u001b[1m219/219\u001b[0m \u001b[32m━━━━━━━━━━━━━━━━━━━━\u001b[0m\u001b[37m\u001b[0m \u001b[1m0s\u001b[0m 1ms/step - loss: 1099.0668 - mae: 12.5778 - val_loss: 1861.4580 - val_mae: 18.0908\n",
      "Epoch 214/300\n",
      "\u001b[1m219/219\u001b[0m \u001b[32m━━━━━━━━━━━━━━━━━━━━\u001b[0m\u001b[37m\u001b[0m \u001b[1m0s\u001b[0m 1ms/step - loss: 1138.3799 - mae: 12.4258 - val_loss: 1662.6945 - val_mae: 18.2806\n",
      "Epoch 215/300\n",
      "\u001b[1m219/219\u001b[0m \u001b[32m━━━━━━━━━━━━━━━━━━━━\u001b[0m\u001b[37m\u001b[0m \u001b[1m0s\u001b[0m 1ms/step - loss: 1169.1420 - mae: 13.3600 - val_loss: 1985.6351 - val_mae: 18.9967\n",
      "Epoch 216/300\n",
      "\u001b[1m219/219\u001b[0m \u001b[32m━━━━━━━━━━━━━━━━━━━━\u001b[0m\u001b[37m\u001b[0m \u001b[1m0s\u001b[0m 1ms/step - loss: 1336.5707 - mae: 13.5465 - val_loss: 2329.1641 - val_mae: 21.0908\n",
      "Epoch 217/300\n",
      "\u001b[1m219/219\u001b[0m \u001b[32m━━━━━━━━━━━━━━━━━━━━\u001b[0m\u001b[37m\u001b[0m \u001b[1m0s\u001b[0m 1ms/step - loss: 1359.4196 - mae: 13.8003 - val_loss: 2015.3199 - val_mae: 19.5230\n",
      "Epoch 218/300\n",
      "\u001b[1m219/219\u001b[0m \u001b[32m━━━━━━━━━━━━━━━━━━━━\u001b[0m\u001b[37m\u001b[0m \u001b[1m0s\u001b[0m 1ms/step - loss: 975.4089 - mae: 12.6162 - val_loss: 1890.0522 - val_mae: 18.1208\n",
      "Epoch 219/300\n",
      "\u001b[1m219/219\u001b[0m \u001b[32m━━━━━━━━━━━━━━━━━━━━\u001b[0m\u001b[37m\u001b[0m \u001b[1m0s\u001b[0m 1ms/step - loss: 1204.4945 - mae: 13.2154 - val_loss: 2027.9688 - val_mae: 19.5563\n",
      "Epoch 220/300\n",
      "\u001b[1m219/219\u001b[0m \u001b[32m━━━━━━━━━━━━━━━━━━━━\u001b[0m\u001b[37m\u001b[0m \u001b[1m0s\u001b[0m 1ms/step - loss: 1403.9788 - mae: 14.3284 - val_loss: 1843.0481 - val_mae: 18.6918\n",
      "Epoch 221/300\n",
      "\u001b[1m219/219\u001b[0m \u001b[32m━━━━━━━━━━━━━━━━━━━━\u001b[0m\u001b[37m\u001b[0m \u001b[1m0s\u001b[0m 1ms/step - loss: 1096.3138 - mae: 12.2241 - val_loss: 1820.9235 - val_mae: 18.5338\n",
      "Epoch 222/300\n",
      "\u001b[1m219/219\u001b[0m \u001b[32m━━━━━━━━━━━━━━━━━━━━\u001b[0m\u001b[37m\u001b[0m \u001b[1m0s\u001b[0m 1ms/step - loss: 878.9620 - mae: 12.0008 - val_loss: 1909.9915 - val_mae: 18.9607\n",
      "Epoch 223/300\n",
      "\u001b[1m219/219\u001b[0m \u001b[32m━━━━━━━━━━━━━━━━━━━━\u001b[0m\u001b[37m\u001b[0m \u001b[1m0s\u001b[0m 1ms/step - loss: 1095.2349 - mae: 12.7998 - val_loss: 1958.6200 - val_mae: 18.4472\n",
      "Epoch 224/300\n",
      "\u001b[1m219/219\u001b[0m \u001b[32m━━━━━━━━━━━━━━━━━━━━\u001b[0m\u001b[37m\u001b[0m \u001b[1m0s\u001b[0m 1ms/step - loss: 1333.5916 - mae: 12.8264 - val_loss: 2003.8436 - val_mae: 18.5994\n",
      "Epoch 225/300\n",
      "\u001b[1m219/219\u001b[0m \u001b[32m━━━━━━━━━━━━━━━━━━━━\u001b[0m\u001b[37m\u001b[0m \u001b[1m0s\u001b[0m 1ms/step - loss: 1318.8910 - mae: 14.1230 - val_loss: 1866.9542 - val_mae: 19.1032\n",
      "Epoch 226/300\n",
      "\u001b[1m219/219\u001b[0m \u001b[32m━━━━━━━━━━━━━━━━━━━━\u001b[0m\u001b[37m\u001b[0m \u001b[1m0s\u001b[0m 1ms/step - loss: 1181.8722 - mae: 13.0145 - val_loss: 1776.6664 - val_mae: 18.5464\n",
      "Epoch 227/300\n",
      "\u001b[1m219/219\u001b[0m \u001b[32m━━━━━━━━━━━━━━━━━━━━\u001b[0m\u001b[37m\u001b[0m \u001b[1m0s\u001b[0m 1000us/step - loss: 1137.6298 - mae: 12.7135 - val_loss: 1856.5144 - val_mae: 18.6654\n",
      "Epoch 228/300\n",
      "\u001b[1m219/219\u001b[0m \u001b[32m━━━━━━━━━━━━━━━━━━━━\u001b[0m\u001b[37m\u001b[0m \u001b[1m0s\u001b[0m 1ms/step - loss: 990.3641 - mae: 12.3840 - val_loss: 1957.2780 - val_mae: 19.8413\n",
      "Epoch 229/300\n",
      "\u001b[1m219/219\u001b[0m \u001b[32m━━━━━━━━━━━━━━━━━━━━\u001b[0m\u001b[37m\u001b[0m \u001b[1m0s\u001b[0m 1ms/step - loss: 1185.0724 - mae: 13.4024 - val_loss: 2222.7612 - val_mae: 21.1416\n",
      "Epoch 230/300\n",
      "\u001b[1m219/219\u001b[0m \u001b[32m━━━━━━━━━━━━━━━━━━━━\u001b[0m\u001b[37m\u001b[0m \u001b[1m0s\u001b[0m 1ms/step - loss: 1198.8582 - mae: 13.2807 - val_loss: 1742.0071 - val_mae: 18.5699\n",
      "Epoch 231/300\n",
      "\u001b[1m219/219\u001b[0m \u001b[32m━━━━━━━━━━━━━━━━━━━━\u001b[0m\u001b[37m\u001b[0m \u001b[1m0s\u001b[0m 995us/step - loss: 1250.5686 - mae: 13.3414 - val_loss: 1635.0161 - val_mae: 17.8716\n",
      "Epoch 232/300\n",
      "\u001b[1m219/219\u001b[0m \u001b[32m━━━━━━━━━━━━━━━━━━━━\u001b[0m\u001b[37m\u001b[0m \u001b[1m0s\u001b[0m 1ms/step - loss: 1138.5973 - mae: 12.6661 - val_loss: 1916.6494 - val_mae: 19.2475\n",
      "Epoch 233/300\n",
      "\u001b[1m219/219\u001b[0m \u001b[32m━━━━━━━━━━━━━━━━━━━━\u001b[0m\u001b[37m\u001b[0m \u001b[1m0s\u001b[0m 1ms/step - loss: 1411.5081 - mae: 13.9284 - val_loss: 1771.5708 - val_mae: 18.5935\n",
      "Epoch 234/300\n",
      "\u001b[1m219/219\u001b[0m \u001b[32m━━━━━━━━━━━━━━━━━━━━\u001b[0m\u001b[37m\u001b[0m \u001b[1m0s\u001b[0m 1ms/step - loss: 958.1818 - mae: 12.2690 - val_loss: 1997.6514 - val_mae: 18.8878\n",
      "Epoch 235/300\n",
      "\u001b[1m219/219\u001b[0m \u001b[32m━━━━━━━━━━━━━━━━━━━━\u001b[0m\u001b[37m\u001b[0m \u001b[1m0s\u001b[0m 1ms/step - loss: 945.1688 - mae: 11.3665 - val_loss: 1764.5149 - val_mae: 18.3215\n",
      "Epoch 236/300\n",
      "\u001b[1m219/219\u001b[0m \u001b[32m━━━━━━━━━━━━━━━━━━━━\u001b[0m\u001b[37m\u001b[0m \u001b[1m0s\u001b[0m 1ms/step - loss: 1344.1355 - mae: 14.0522 - val_loss: 1896.6235 - val_mae: 18.3494\n",
      "Epoch 237/300\n",
      "\u001b[1m219/219\u001b[0m \u001b[32m━━━━━━━━━━━━━━━━━━━━\u001b[0m\u001b[37m\u001b[0m \u001b[1m0s\u001b[0m 1ms/step - loss: 1464.2003 - mae: 13.4538 - val_loss: 2083.9146 - val_mae: 20.5827\n",
      "Epoch 238/300\n",
      "\u001b[1m219/219\u001b[0m \u001b[32m━━━━━━━━━━━━━━━━━━━━\u001b[0m\u001b[37m\u001b[0m \u001b[1m0s\u001b[0m 1ms/step - loss: 1039.1437 - mae: 12.6493 - val_loss: 2006.4222 - val_mae: 18.8484\n",
      "Epoch 239/300\n",
      "\u001b[1m219/219\u001b[0m \u001b[32m━━━━━━━━━━━━━━━━━━━━\u001b[0m\u001b[37m\u001b[0m \u001b[1m0s\u001b[0m 1ms/step - loss: 1423.6039 - mae: 13.9989 - val_loss: 1983.4993 - val_mae: 19.5683\n",
      "Epoch 240/300\n",
      "\u001b[1m219/219\u001b[0m \u001b[32m━━━━━━━━━━━━━━━━━━━━\u001b[0m\u001b[37m\u001b[0m \u001b[1m0s\u001b[0m 1ms/step - loss: 964.1003 - mae: 12.0242 - val_loss: 2287.0603 - val_mae: 21.2390\n",
      "Epoch 241/300\n",
      "\u001b[1m219/219\u001b[0m \u001b[32m━━━━━━━━━━━━━━━━━━━━\u001b[0m\u001b[37m\u001b[0m \u001b[1m0s\u001b[0m 1ms/step - loss: 1122.6124 - mae: 13.4017 - val_loss: 2248.3809 - val_mae: 20.0189\n",
      "Epoch 242/300\n",
      "\u001b[1m219/219\u001b[0m \u001b[32m━━━━━━━━━━━━━━━━━━━━\u001b[0m\u001b[37m\u001b[0m \u001b[1m0s\u001b[0m 1ms/step - loss: 1005.9718 - mae: 12.3136 - val_loss: 2035.7728 - val_mae: 19.0594\n",
      "Epoch 243/300\n",
      "\u001b[1m219/219\u001b[0m \u001b[32m━━━━━━━━━━━━━━━━━━━━\u001b[0m\u001b[37m\u001b[0m \u001b[1m0s\u001b[0m 1ms/step - loss: 984.5193 - mae: 11.8907 - val_loss: 1764.0822 - val_mae: 18.3509\n",
      "Epoch 244/300\n",
      "\u001b[1m219/219\u001b[0m \u001b[32m━━━━━━━━━━━━━━━━━━━━\u001b[0m\u001b[37m\u001b[0m \u001b[1m0s\u001b[0m 1ms/step - loss: 1581.3671 - mae: 13.8375 - val_loss: 1978.7877 - val_mae: 18.6310\n",
      "Epoch 245/300\n",
      "\u001b[1m219/219\u001b[0m \u001b[32m━━━━━━━━━━━━━━━━━━━━\u001b[0m\u001b[37m\u001b[0m \u001b[1m0s\u001b[0m 1ms/step - loss: 1249.8580 - mae: 12.5540 - val_loss: 2138.6248 - val_mae: 19.4570\n",
      "Epoch 246/300\n",
      "\u001b[1m219/219\u001b[0m \u001b[32m━━━━━━━━━━━━━━━━━━━━\u001b[0m\u001b[37m\u001b[0m \u001b[1m0s\u001b[0m 1ms/step - loss: 1274.6100 - mae: 13.9208 - val_loss: 1883.0504 - val_mae: 18.9051\n",
      "Epoch 247/300\n",
      "\u001b[1m219/219\u001b[0m \u001b[32m━━━━━━━━━━━━━━━━━━━━\u001b[0m\u001b[37m\u001b[0m \u001b[1m0s\u001b[0m 1ms/step - loss: 1450.4341 - mae: 13.4801 - val_loss: 2068.8645 - val_mae: 19.1059\n",
      "Epoch 248/300\n",
      "\u001b[1m219/219\u001b[0m \u001b[32m━━━━━━━━━━━━━━━━━━━━\u001b[0m\u001b[37m\u001b[0m \u001b[1m0s\u001b[0m 1ms/step - loss: 1228.4587 - mae: 12.6953 - val_loss: 2110.1084 - val_mae: 19.5569\n",
      "Epoch 249/300\n",
      "\u001b[1m219/219\u001b[0m \u001b[32m━━━━━━━━━━━━━━━━━━━━\u001b[0m\u001b[37m\u001b[0m \u001b[1m0s\u001b[0m 1ms/step - loss: 995.1805 - mae: 12.1518 - val_loss: 2097.6638 - val_mae: 19.9189\n",
      "Epoch 250/300\n",
      "\u001b[1m219/219\u001b[0m \u001b[32m━━━━━━━━━━━━━━━━━━━━\u001b[0m\u001b[37m\u001b[0m \u001b[1m0s\u001b[0m 1ms/step - loss: 835.9785 - mae: 11.3863 - val_loss: 1979.0513 - val_mae: 18.6633\n",
      "Epoch 251/300\n",
      "\u001b[1m219/219\u001b[0m \u001b[32m━━━━━━━━━━━━━━━━━━━━\u001b[0m\u001b[37m\u001b[0m \u001b[1m0s\u001b[0m 1ms/step - loss: 1023.8014 - mae: 12.3987 - val_loss: 1882.5876 - val_mae: 18.7813\n",
      "Epoch 252/300\n",
      "\u001b[1m219/219\u001b[0m \u001b[32m━━━━━━━━━━━━━━━━━━━━\u001b[0m\u001b[37m\u001b[0m \u001b[1m0s\u001b[0m 1ms/step - loss: 856.2203 - mae: 11.6306 - val_loss: 1809.9673 - val_mae: 18.2965\n",
      "Epoch 253/300\n",
      "\u001b[1m219/219\u001b[0m \u001b[32m━━━━━━━━━━━━━━━━━━━━\u001b[0m\u001b[37m\u001b[0m \u001b[1m0s\u001b[0m 1ms/step - loss: 973.6113 - mae: 11.7797 - val_loss: 2131.8760 - val_mae: 19.7429\n",
      "Epoch 254/300\n",
      "\u001b[1m219/219\u001b[0m \u001b[32m━━━━━━━━━━━━━━━━━━━━\u001b[0m\u001b[37m\u001b[0m \u001b[1m0s\u001b[0m 1ms/step - loss: 1193.1279 - mae: 12.3925 - val_loss: 2055.9976 - val_mae: 18.8538\n",
      "Epoch 255/300\n",
      "\u001b[1m219/219\u001b[0m \u001b[32m━━━━━━━━━━━━━━━━━━━━\u001b[0m\u001b[37m\u001b[0m \u001b[1m0s\u001b[0m 1ms/step - loss: 856.2284 - mae: 11.8231 - val_loss: 2087.3545 - val_mae: 19.4883\n",
      "Epoch 256/300\n",
      "\u001b[1m219/219\u001b[0m \u001b[32m━━━━━━━━━━━━━━━━━━━━\u001b[0m\u001b[37m\u001b[0m \u001b[1m0s\u001b[0m 1ms/step - loss: 1117.8505 - mae: 12.9475 - val_loss: 1807.1790 - val_mae: 18.2475\n",
      "Epoch 257/300\n",
      "\u001b[1m219/219\u001b[0m \u001b[32m━━━━━━━━━━━━━━━━━━━━\u001b[0m\u001b[37m\u001b[0m \u001b[1m0s\u001b[0m 1ms/step - loss: 987.6727 - mae: 12.4768 - val_loss: 2041.1683 - val_mae: 18.0209\n",
      "Epoch 258/300\n",
      "\u001b[1m219/219\u001b[0m \u001b[32m━━━━━━━━━━━━━━━━━━━━\u001b[0m\u001b[37m\u001b[0m \u001b[1m0s\u001b[0m 1ms/step - loss: 952.5257 - mae: 11.9070 - val_loss: 2026.5430 - val_mae: 18.3826\n",
      "Epoch 259/300\n",
      "\u001b[1m219/219\u001b[0m \u001b[32m━━━━━━━━━━━━━━━━━━━━\u001b[0m\u001b[37m\u001b[0m \u001b[1m0s\u001b[0m 1ms/step - loss: 1173.2938 - mae: 12.2667 - val_loss: 1908.9524 - val_mae: 18.3793\n",
      "Epoch 260/300\n",
      "\u001b[1m219/219\u001b[0m \u001b[32m━━━━━━━━━━━━━━━━━━━━\u001b[0m\u001b[37m\u001b[0m \u001b[1m0s\u001b[0m 1ms/step - loss: 1090.3535 - mae: 12.6770 - val_loss: 1869.6002 - val_mae: 18.5377\n",
      "Epoch 261/300\n",
      "\u001b[1m219/219\u001b[0m \u001b[32m━━━━━━━━━━━━━━━━━━━━\u001b[0m\u001b[37m\u001b[0m \u001b[1m0s\u001b[0m 1ms/step - loss: 1011.1245 - mae: 12.7173 - val_loss: 2358.0520 - val_mae: 19.4643\n",
      "Epoch 262/300\n",
      "\u001b[1m219/219\u001b[0m \u001b[32m━━━━━━━━━━━━━━━━━━━━\u001b[0m\u001b[37m\u001b[0m \u001b[1m0s\u001b[0m 1ms/step - loss: 966.1960 - mae: 12.2056 - val_loss: 2157.0200 - val_mae: 19.3301\n",
      "Epoch 263/300\n",
      "\u001b[1m219/219\u001b[0m \u001b[32m━━━━━━━━━━━━━━━━━━━━\u001b[0m\u001b[37m\u001b[0m \u001b[1m0s\u001b[0m 1ms/step - loss: 991.7490 - mae: 12.7699 - val_loss: 1940.0974 - val_mae: 18.7119\n",
      "Epoch 264/300\n",
      "\u001b[1m219/219\u001b[0m \u001b[32m━━━━━━━━━━━━━━━━━━━━\u001b[0m\u001b[37m\u001b[0m \u001b[1m0s\u001b[0m 1000us/step - loss: 1169.9031 - mae: 12.1871 - val_loss: 1943.7781 - val_mae: 18.6212\n",
      "Epoch 265/300\n",
      "\u001b[1m219/219\u001b[0m \u001b[32m━━━━━━━━━━━━━━━━━━━━\u001b[0m\u001b[37m\u001b[0m \u001b[1m0s\u001b[0m 1ms/step - loss: 971.7892 - mae: 12.1403 - val_loss: 1904.9847 - val_mae: 18.5023\n",
      "Epoch 266/300\n",
      "\u001b[1m219/219\u001b[0m \u001b[32m━━━━━━━━━━━━━━━━━━━━\u001b[0m\u001b[37m\u001b[0m \u001b[1m0s\u001b[0m 1ms/step - loss: 1402.9331 - mae: 13.4667 - val_loss: 2005.1782 - val_mae: 19.0072\n",
      "Epoch 267/300\n",
      "\u001b[1m219/219\u001b[0m \u001b[32m━━━━━━━━━━━━━━━━━━━━\u001b[0m\u001b[37m\u001b[0m \u001b[1m0s\u001b[0m 1ms/step - loss: 1163.8208 - mae: 12.7142 - val_loss: 1851.0955 - val_mae: 18.7598\n",
      "Epoch 268/300\n",
      "\u001b[1m219/219\u001b[0m \u001b[32m━━━━━━━━━━━━━━━━━━━━\u001b[0m\u001b[37m\u001b[0m \u001b[1m0s\u001b[0m 1ms/step - loss: 1051.4902 - mae: 12.8968 - val_loss: 2244.4805 - val_mae: 19.1581\n",
      "Epoch 269/300\n",
      "\u001b[1m219/219\u001b[0m \u001b[32m━━━━━━━━━━━━━━━━━━━━\u001b[0m\u001b[37m\u001b[0m \u001b[1m0s\u001b[0m 1ms/step - loss: 1173.2311 - mae: 13.3945 - val_loss: 1842.6302 - val_mae: 18.0582\n",
      "Epoch 270/300\n",
      "\u001b[1m219/219\u001b[0m \u001b[32m━━━━━━━━━━━━━━━━━━━━\u001b[0m\u001b[37m\u001b[0m \u001b[1m0s\u001b[0m 1ms/step - loss: 914.0645 - mae: 11.4316 - val_loss: 2032.5836 - val_mae: 19.1800\n",
      "Epoch 271/300\n",
      "\u001b[1m219/219\u001b[0m \u001b[32m━━━━━━━━━━━━━━━━━━━━\u001b[0m\u001b[37m\u001b[0m \u001b[1m0s\u001b[0m 1ms/step - loss: 961.7488 - mae: 12.3476 - val_loss: 1959.0389 - val_mae: 19.6448\n",
      "Epoch 272/300\n",
      "\u001b[1m219/219\u001b[0m \u001b[32m━━━━━━━━━━━━━━━━━━━━\u001b[0m\u001b[37m\u001b[0m \u001b[1m0s\u001b[0m 982us/step - loss: 1099.6238 - mae: 12.6336 - val_loss: 1972.3267 - val_mae: 18.5303\n",
      "Epoch 273/300\n",
      "\u001b[1m219/219\u001b[0m \u001b[32m━━━━━━━━━━━━━━━━━━━━\u001b[0m\u001b[37m\u001b[0m \u001b[1m0s\u001b[0m 1ms/step - loss: 1114.8633 - mae: 12.4052 - val_loss: 1930.2086 - val_mae: 18.7924\n",
      "Epoch 274/300\n",
      "\u001b[1m219/219\u001b[0m \u001b[32m━━━━━━━━━━━━━━━━━━━━\u001b[0m\u001b[37m\u001b[0m \u001b[1m0s\u001b[0m 991us/step - loss: 716.2060 - mae: 10.9750 - val_loss: 2070.2590 - val_mae: 18.5778\n",
      "Epoch 275/300\n",
      "\u001b[1m219/219\u001b[0m \u001b[32m━━━━━━━━━━━━━━━━━━━━\u001b[0m\u001b[37m\u001b[0m \u001b[1m0s\u001b[0m 1ms/step - loss: 1169.8828 - mae: 12.9403 - val_loss: 1868.6021 - val_mae: 19.0027\n",
      "Epoch 276/300\n",
      "\u001b[1m219/219\u001b[0m \u001b[32m━━━━━━━━━━━━━━━━━━━━\u001b[0m\u001b[37m\u001b[0m \u001b[1m0s\u001b[0m 1ms/step - loss: 866.1561 - mae: 11.5205 - val_loss: 1963.4058 - val_mae: 18.6802\n",
      "Epoch 277/300\n",
      "\u001b[1m219/219\u001b[0m \u001b[32m━━━━━━━━━━━━━━━━━━━━\u001b[0m\u001b[37m\u001b[0m \u001b[1m0s\u001b[0m 1ms/step - loss: 983.0764 - mae: 12.2041 - val_loss: 2140.8206 - val_mae: 19.1952\n",
      "Epoch 278/300\n",
      "\u001b[1m219/219\u001b[0m \u001b[32m━━━━━━━━━━━━━━━━━━━━\u001b[0m\u001b[37m\u001b[0m \u001b[1m0s\u001b[0m 982us/step - loss: 941.4346 - mae: 12.1591 - val_loss: 1892.2109 - val_mae: 18.3279\n",
      "Epoch 279/300\n",
      "\u001b[1m219/219\u001b[0m \u001b[32m━━━━━━━━━━━━━━━━━━━━\u001b[0m\u001b[37m\u001b[0m \u001b[1m0s\u001b[0m 1ms/step - loss: 1222.7728 - mae: 12.2550 - val_loss: 2278.3391 - val_mae: 19.5078\n",
      "Epoch 280/300\n",
      "\u001b[1m219/219\u001b[0m \u001b[32m━━━━━━━━━━━━━━━━━━━━\u001b[0m\u001b[37m\u001b[0m \u001b[1m0s\u001b[0m 977us/step - loss: 1454.4469 - mae: 13.2601 - val_loss: 2159.5691 - val_mae: 20.2691\n",
      "Epoch 281/300\n",
      "\u001b[1m219/219\u001b[0m \u001b[32m━━━━━━━━━━━━━━━━━━━━\u001b[0m\u001b[37m\u001b[0m \u001b[1m0s\u001b[0m 1ms/step - loss: 1142.4814 - mae: 13.5095 - val_loss: 2097.2168 - val_mae: 19.3960\n",
      "Epoch 282/300\n",
      "\u001b[1m219/219\u001b[0m \u001b[32m━━━━━━━━━━━━━━━━━━━━\u001b[0m\u001b[37m\u001b[0m \u001b[1m0s\u001b[0m 1ms/step - loss: 1029.8885 - mae: 11.7027 - val_loss: 2364.2192 - val_mae: 19.1649\n",
      "Epoch 283/300\n",
      "\u001b[1m219/219\u001b[0m \u001b[32m━━━━━━━━━━━━━━━━━━━━\u001b[0m\u001b[37m\u001b[0m \u001b[1m0s\u001b[0m 977us/step - loss: 1066.3921 - mae: 12.4607 - val_loss: 1814.7999 - val_mae: 18.9939\n",
      "Epoch 284/300\n",
      "\u001b[1m219/219\u001b[0m \u001b[32m━━━━━━━━━━━━━━━━━━━━\u001b[0m\u001b[37m\u001b[0m \u001b[1m0s\u001b[0m 1ms/step - loss: 1141.3782 - mae: 13.0862 - val_loss: 1680.0817 - val_mae: 18.0444\n",
      "Epoch 285/300\n",
      "\u001b[1m219/219\u001b[0m \u001b[32m━━━━━━━━━━━━━━━━━━━━\u001b[0m\u001b[37m\u001b[0m \u001b[1m0s\u001b[0m 991us/step - loss: 1051.3662 - mae: 12.0387 - val_loss: 2095.9980 - val_mae: 19.2304\n",
      "Epoch 286/300\n",
      "\u001b[1m219/219\u001b[0m \u001b[32m━━━━━━━━━━━━━━━━━━━━\u001b[0m\u001b[37m\u001b[0m \u001b[1m0s\u001b[0m 1ms/step - loss: 948.6321 - mae: 11.2662 - val_loss: 2081.7590 - val_mae: 18.9109\n",
      "Epoch 287/300\n",
      "\u001b[1m219/219\u001b[0m \u001b[32m━━━━━━━━━━━━━━━━━━━━\u001b[0m\u001b[37m\u001b[0m \u001b[1m0s\u001b[0m 963us/step - loss: 1174.4087 - mae: 12.9332 - val_loss: 2098.6340 - val_mae: 19.2270\n",
      "Epoch 288/300\n",
      "\u001b[1m219/219\u001b[0m \u001b[32m━━━━━━━━━━━━━━━━━━━━\u001b[0m\u001b[37m\u001b[0m \u001b[1m0s\u001b[0m 1ms/step - loss: 811.9506 - mae: 11.4917 - val_loss: 2013.2109 - val_mae: 18.5668\n",
      "Epoch 289/300\n",
      "\u001b[1m219/219\u001b[0m \u001b[32m━━━━━━━━━━━━━━━━━━━━\u001b[0m\u001b[37m\u001b[0m \u001b[1m0s\u001b[0m 1ms/step - loss: 919.8156 - mae: 11.1273 - val_loss: 1811.8907 - val_mae: 18.7275\n",
      "Epoch 290/300\n",
      "\u001b[1m219/219\u001b[0m \u001b[32m━━━━━━━━━━━━━━━━━━━━\u001b[0m\u001b[37m\u001b[0m \u001b[1m0s\u001b[0m 1ms/step - loss: 977.8802 - mae: 11.1393 - val_loss: 1801.7119 - val_mae: 17.5297\n",
      "Epoch 291/300\n",
      "\u001b[1m219/219\u001b[0m \u001b[32m━━━━━━━━━━━━━━━━━━━━\u001b[0m\u001b[37m\u001b[0m \u001b[1m0s\u001b[0m 995us/step - loss: 811.3364 - mae: 10.9115 - val_loss: 2213.8169 - val_mae: 19.8680\n",
      "Epoch 292/300\n",
      "\u001b[1m219/219\u001b[0m \u001b[32m━━━━━━━━━━━━━━━━━━━━\u001b[0m\u001b[37m\u001b[0m \u001b[1m0s\u001b[0m 1ms/step - loss: 1324.6754 - mae: 13.3979 - val_loss: 1813.5521 - val_mae: 18.6939\n",
      "Epoch 293/300\n",
      "\u001b[1m219/219\u001b[0m \u001b[32m━━━━━━━━━━━━━━━━━━━━\u001b[0m\u001b[37m\u001b[0m \u001b[1m0s\u001b[0m 1ms/step - loss: 669.8401 - mae: 11.0658 - val_loss: 2036.0134 - val_mae: 18.5888\n",
      "Epoch 294/300\n",
      "\u001b[1m219/219\u001b[0m \u001b[32m━━━━━━━━━━━━━━━━━━━━\u001b[0m\u001b[37m\u001b[0m \u001b[1m0s\u001b[0m 1ms/step - loss: 1147.4806 - mae: 12.1580 - val_loss: 1813.6122 - val_mae: 18.6441\n",
      "Epoch 295/300\n",
      "\u001b[1m219/219\u001b[0m \u001b[32m━━━━━━━━━━━━━━━━━━━━\u001b[0m\u001b[37m\u001b[0m \u001b[1m0s\u001b[0m 1ms/step - loss: 1093.9341 - mae: 12.5964 - val_loss: 2185.4521 - val_mae: 19.6533\n",
      "Epoch 296/300\n",
      "\u001b[1m219/219\u001b[0m \u001b[32m━━━━━━━━━━━━━━━━━━━━\u001b[0m\u001b[37m\u001b[0m \u001b[1m0s\u001b[0m 1ms/step - loss: 1262.4355 - mae: 13.7417 - val_loss: 2226.4019 - val_mae: 20.9606\n",
      "Epoch 297/300\n",
      "\u001b[1m219/219\u001b[0m \u001b[32m━━━━━━━━━━━━━━━━━━━━\u001b[0m\u001b[37m\u001b[0m \u001b[1m0s\u001b[0m 1ms/step - loss: 1047.3196 - mae: 12.6788 - val_loss: 1739.1703 - val_mae: 18.2517\n",
      "Epoch 298/300\n",
      "\u001b[1m219/219\u001b[0m \u001b[32m━━━━━━━━━━━━━━━━━━━━\u001b[0m\u001b[37m\u001b[0m \u001b[1m0s\u001b[0m 1ms/step - loss: 962.5177 - mae: 12.0717 - val_loss: 2174.6309 - val_mae: 18.5614\n",
      "Epoch 299/300\n",
      "\u001b[1m219/219\u001b[0m \u001b[32m━━━━━━━━━━━━━━━━━━━━\u001b[0m\u001b[37m\u001b[0m \u001b[1m0s\u001b[0m 986us/step - loss: 858.6122 - mae: 11.0101 - val_loss: 2029.4198 - val_mae: 19.7162\n",
      "Epoch 300/300\n",
      "\u001b[1m219/219\u001b[0m \u001b[32m━━━━━━━━━━━━━━━━━━━━\u001b[0m\u001b[37m\u001b[0m \u001b[1m0s\u001b[0m 1ms/step - loss: 897.1049 - mae: 11.5393 - val_loss: 2078.4988 - val_mae: 18.7841\n",
      "\u001b[1m55/55\u001b[0m \u001b[32m━━━━━━━━━━━━━━━━━━━━\u001b[0m\u001b[37m\u001b[0m \u001b[1m0s\u001b[0m 593us/step - loss: 2702.8645 - mae: 19.2756\n",
      "Mean Squared Error: 2078.498779296875, Mean Absolute Error: 18.784074783325195\n"
     ]
    }
   ],
   "source": [
    "coolingModel = create_cooling_model()\n",
    "history = coolingModel.fit(X_scaled_train, y_train, epochs=300, batch_size=32, validation_data=(X_scaled_test, y_test))\n",
    "mse, mae = coolingModel.evaluate(X_scaled_test, y_test)\n",
    "print(f'Mean Squared Error: {mse}, Mean Absolute Error: {mae}')"
   ]
  },
  {
   "cell_type": "code",
   "execution_count": 23,
   "metadata": {
    "id": "VLUSwvMbqAyt",
    "pycharm": {
     "name": "#%%\n"
    }
   },
   "outputs": [],
   "source": [
    "def plot_loss(history):\n",
    "  plt.plot(history.history['loss'], label='loss')\n",
    "  plt.plot(history.history['val_loss'], label='val_loss')\n",
    "  plt.xlabel('Epoch')\n",
    "  plt.legend(['Loss', 'Val_loss'], loc='upper right')\n",
    "\n",
    "  plt.ylim(0, 10000)\n",
    "  plt.grid(True)\n",
    "\n",
    "def plot_mae(history):\n",
    "  plt.plot(history.history['mae'], label='mae')\n",
    "  plt.plot(history.history['val_mae'], label='val_mae')\n",
    "  plt.xlabel('Epoch')\n",
    "  plt.legend(['mae', 'Val_mae'], loc='upper right')\n",
    "  plt.ylim(0, 60)\n",
    "  plt.grid(True)"
   ]
  },
  {
   "cell_type": "code",
   "execution_count": 24,
   "metadata": {
    "colab": {
     "base_uri": "https://localhost:8080/",
     "height": 455
    },
    "executionInfo": {
     "elapsed": 901,
     "status": "ok",
     "timestamp": 1724239375365,
     "user": {
      "displayName": "Błażej B",
      "userId": "09393835138747022407"
     },
     "user_tz": -120
    },
    "id": "1jb6rciMqCQ9",
    "outputId": "8a74de08-acbb-486c-82b5-6a0725f3265a",
    "pycharm": {
     "name": "#%%\n"
    }
   },
   "outputs": [
    {
     "data": {
      "image/png": "[encoded data removed]",
      "text/plain": [
       "<Figure size 640x480 with 1 Axes>"
      ]
     },
     "metadata": {},
     "output_type": "display_data"
    }
   ],
   "source": [
    "plot_mae(history)"
   ]
  },
  {
   "cell_type": "code",
   "execution_count": 25,
   "metadata": {
    "colab": {
     "base_uri": "https://localhost:8080/",
     "height": 455
    },
    "executionInfo": {
     "elapsed": 938,
     "status": "ok",
     "timestamp": 1724239381346,
     "user": {
      "displayName": "Błażej B",
      "userId": "09393835138747022407"
     },
     "user_tz": -120
    },
    "id": "jfdoLYoYqFNJ",
    "outputId": "06d98c52-b137-492f-f2a5-018a5ac3912f",
    "pycharm": {
     "name": "#%%\n"
    }
   },
   "outputs": [
    {
     "data": {
      "image/png": "[encoded data removed]",
      "text/plain": [
       "<Figure size 640x480 with 1 Axes>"
      ]
     },
     "metadata": {},
     "output_type": "display_data"
    }
   ],
   "source": [
    "plot_loss(history)"
   ]
  },
  {
   "cell_type": "code",
   "execution_count": 26,
   "metadata": {
    "id": "W9xCpXV-rXZz",
    "pycharm": {
     "name": "#%%\n"
    }
   },
   "outputs": [
    {
     "ename": "FileNotFoundError",
     "evalue": "[Errno 2] No such file or directory: '../Models2/Cooling_model.keras'",
     "output_type": "error",
     "traceback": [
      "\u001b[1;31m---------------------------------------------------------------------------\u001b[0m",
      "\u001b[1;31mFileNotFoundError\u001b[0m                         Traceback (most recent call last)",
      "Cell \u001b[1;32mIn[26], line 1\u001b[0m\n\u001b[1;32m----> 1\u001b[0m \u001b[43mcoolingModel\u001b[49m\u001b[38;5;241;43m.\u001b[39;49m\u001b[43msave\u001b[49m\u001b[43m(\u001b[49m\u001b[38;5;124;43m\"\u001b[39;49m\u001b[38;5;124;43m../Models2/Cooling_model.keras\u001b[39;49m\u001b[38;5;124;43m\"\u001b[39;49m\u001b[43m)\u001b[49m\n",
      "File \u001b[1;32me:\\programowanie\\python\\pythonworkspace\\venv\\lib\\site-packages\\keras\\src\\utils\\traceback_utils.py:122\u001b[0m, in \u001b[0;36mfilter_traceback.<locals>.error_handler\u001b[1;34m(*args, **kwargs)\u001b[0m\n\u001b[0;32m    119\u001b[0m     filtered_tb \u001b[38;5;241m=\u001b[39m _process_traceback_frames(e\u001b[38;5;241m.\u001b[39m__traceback__)\n\u001b[0;32m    120\u001b[0m     \u001b[38;5;66;03m# To get the full stack trace, call:\u001b[39;00m\n\u001b[0;32m    121\u001b[0m     \u001b[38;5;66;03m# `keras.config.disable_traceback_filtering()`\u001b[39;00m\n\u001b[1;32m--> 122\u001b[0m     \u001b[38;5;28;01mraise\u001b[39;00m e\u001b[38;5;241m.\u001b[39mwith_traceback(filtered_tb) \u001b[38;5;28;01mfrom\u001b[39;00m \u001b[38;5;28mNone\u001b[39m\n\u001b[0;32m    123\u001b[0m \u001b[38;5;28;01mfinally\u001b[39;00m:\n\u001b[0;32m    124\u001b[0m     \u001b[38;5;28;01mdel\u001b[39;00m filtered_tb\n",
      "File \u001b[1;32me:\\programowanie\\python\\pythonworkspace\\venv\\lib\\site-packages\\keras\\src\\saving\\saving_lib.py:141\u001b[0m, in \u001b[0;36msave_model\u001b[1;34m(model, filepath, weights_format, zipped)\u001b[0m\n\u001b[0;32m    139\u001b[0m         f\u001b[38;5;241m.\u001b[39mwrite(zip_filepath\u001b[38;5;241m.\u001b[39mgetvalue())\n\u001b[0;32m    140\u001b[0m \u001b[38;5;28;01melse\u001b[39;00m:\n\u001b[1;32m--> 141\u001b[0m     \u001b[38;5;28;01mwith\u001b[39;00m \u001b[38;5;28;43mopen\u001b[39;49m\u001b[43m(\u001b[49m\u001b[43mfilepath\u001b[49m\u001b[43m,\u001b[49m\u001b[43m \u001b[49m\u001b[38;5;124;43m\"\u001b[39;49m\u001b[38;5;124;43mwb\u001b[39;49m\u001b[38;5;124;43m\"\u001b[39;49m\u001b[43m)\u001b[49m \u001b[38;5;28;01mas\u001b[39;00m f:\n\u001b[0;32m    142\u001b[0m         _save_model_to_fileobj(model, f, weights_format)\n",
      "\u001b[1;31mFileNotFoundError\u001b[0m: [Errno 2] No such file or directory: '../Models2/Cooling_model.keras'"
     ]
    }
   ],
   "source": [
    "coolingModel.save(\"../Models2/Cooling_model.keras\")"
   ]
  },
  {
   "cell_type": "code",
   "execution_count": null,
   "metadata": {
    "pycharm": {
     "name": "#%%\n"
    }
   },
   "outputs": [],
   "source": []
  }
 ],
 "metadata": {
  "colab": {
   "authorship_tag": "ABX9TyOszu3XfD/KdeseX5yFtesI",
   "provenance": []
  },
  "kernelspec": {
   "display_name": "Python 3 (ipykernel)",
   "language": "python",
   "name": "python3"
  },
  "language_info": {
   "codemirror_mode": {
    "name": "ipython",
    "version": 3
   },
   "file_extension": ".py",
   "mimetype": "text/x-python",
   "name": "python",
   "nbconvert_exporter": "python",
   "pygments_lexer": "ipython3",
   "version": "3.9.18"
  }
 },
 "nbformat": 4,
 "nbformat_minor": 4
}
